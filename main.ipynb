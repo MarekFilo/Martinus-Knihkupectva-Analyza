{
 "cells": [
  {
   "cell_type": "code",
   "execution_count": 1,
   "metadata": {},
   "outputs": [],
   "source": [
    "from src.utils.coordinates_util import get_coordinates_for_city, haversine_distance\n",
    "from src.scrapers.scrapers import BasicScraper\n",
    "from src.types.types import Coordinates, URL, XPath\n",
    "\n",
    "import pandas as pd"
   ]
  },
  {
   "cell_type": "code",
   "execution_count": 2,
   "metadata": {},
   "outputs": [],
   "source": [
    "def assert_gps_coordinates_equal(\n",
    "    coord1: Coordinates, coord2: Coordinates, tolerance: float = 1e-2\n",
    "):\n",
    "    assert (\n",
    "        abs(coord1.latitude - coord2.latitude) < tolerance\n",
    "    ), f\"Latitude difference exceeds tolerance: {coord1.latitude} vs {coord2.latitude}\"\n",
    "    assert (\n",
    "        abs(coord1.longitude - coord2.longitude) < tolerance\n",
    "    ), f\"Longitude difference exceeds tolerance: {coord1.longitude} vs {coord2.longitude}\"\n",
    "\n",
    "\n",
    "expected_coordinates: Coordinates = Coordinates(48.89452, 18.04436)\n",
    "actual_coordinates: Coordinates = get_coordinates_for_city(\"Trenčín\")\n",
    "\n",
    "assert_gps_coordinates_equal(actual_coordinates, expected_coordinates)"
   ]
  },
  {
   "cell_type": "code",
   "execution_count": 3,
   "metadata": {},
   "outputs": [
    {
     "name": "stdout",
     "output_type": "stream",
     "text": [
      "Coordinates not found for Ul. gen. M. R. Štefánika 426, 911 01 Trenčín\n"
     ]
    }
   ],
   "source": [
    "get_coordinates_for_city(\"Ul. gen. M. R. Štefánika 426, 911 01 Trenčín\")"
   ]
  },
  {
   "cell_type": "code",
   "execution_count": 4,
   "metadata": {},
   "outputs": [
    {
     "data": {
      "text/plain": [
       "Coordinates(latitude=48.8906828, longitude=18.0566796)"
      ]
     },
     "execution_count": 4,
     "metadata": {},
     "output_type": "execute_result"
    }
   ],
   "source": [
    "get_coordinates_for_city(\"gen. M. R. Štefánika 426, 911 01 Trenčín\")"
   ]
  },
  {
   "cell_type": "code",
   "execution_count": 5,
   "metadata": {},
   "outputs": [
    {
     "name": "stdout",
     "output_type": "stream",
     "text": [
      "The distance between Bratislava and Košice is 309.44 kilometers.\n"
     ]
    }
   ],
   "source": [
    "city1: str = \"Bratislava\"\n",
    "city2: str = \"Košice\"\n",
    "\n",
    "coord1: Coordinates = get_coordinates_for_city(city1)\n",
    "coord2: Coordinates = get_coordinates_for_city(city2)\n",
    "\n",
    "if coord1 and coord2:\n",
    "    distance = haversine_distance(coord1, coord2)\n",
    "    print(f\"The distance between {city1} and {city2} is {distance:.2f} kilometers.\")\n",
    "else:\n",
    "    print(\"Unable to get coordinates for one or both cities.\")"
   ]
  },
  {
   "cell_type": "code",
   "execution_count": 6,
   "metadata": {},
   "outputs": [
    {
     "data": {
      "text/html": [
       "<div>\n",
       "<style scoped>\n",
       "    .dataframe tbody tr th:only-of-type {\n",
       "        vertical-align: middle;\n",
       "    }\n",
       "\n",
       "    .dataframe tbody tr th {\n",
       "        vertical-align: top;\n",
       "    }\n",
       "\n",
       "    .dataframe thead th {\n",
       "        text-align: right;\n",
       "    }\n",
       "</style>\n",
       "<table border=\"1\" class=\"dataframe\">\n",
       "  <thead>\n",
       "    <tr style=\"text-align: right;\">\n",
       "      <th></th>\n",
       "      <th>Kód</th>\n",
       "      <th>Územná jednotka</th>\n",
       "      <th>Spolu</th>\n",
       "      <th>muži (abs.)</th>\n",
       "      <th>muži (%)</th>\n",
       "      <th>ženy (abs.)</th>\n",
       "      <th>ženy (%)</th>\n",
       "    </tr>\n",
       "  </thead>\n",
       "  <tbody>\n",
       "    <tr>\n",
       "      <th>0</th>\n",
       "      <td>SK0101528595</td>\n",
       "      <td>Bratislava - mestská časť Staré Mesto</td>\n",
       "      <td>46080</td>\n",
       "      <td>22210</td>\n",
       "      <td>48.20</td>\n",
       "      <td>23870</td>\n",
       "      <td>51.80</td>\n",
       "    </tr>\n",
       "    <tr>\n",
       "      <th>1</th>\n",
       "      <td>SK0102529311</td>\n",
       "      <td>Bratislava - mestská časť Podunajské Biskupice</td>\n",
       "      <td>23464</td>\n",
       "      <td>11193</td>\n",
       "      <td>47.70</td>\n",
       "      <td>12271</td>\n",
       "      <td>52.30</td>\n",
       "    </tr>\n",
       "    <tr>\n",
       "      <th>2</th>\n",
       "      <td>SK0102529320</td>\n",
       "      <td>Bratislava - mestská časť Ružinov</td>\n",
       "      <td>81004</td>\n",
       "      <td>37575</td>\n",
       "      <td>46.39</td>\n",
       "      <td>43429</td>\n",
       "      <td>53.61</td>\n",
       "    </tr>\n",
       "    <tr>\n",
       "      <th>3</th>\n",
       "      <td>SK0102529338</td>\n",
       "      <td>Bratislava - mestská časť Vrakuňa</td>\n",
       "      <td>20711</td>\n",
       "      <td>9945</td>\n",
       "      <td>48.02</td>\n",
       "      <td>10766</td>\n",
       "      <td>51.98</td>\n",
       "    </tr>\n",
       "    <tr>\n",
       "      <th>4</th>\n",
       "      <td>SK0103529346</td>\n",
       "      <td>Bratislava - mestská časť Nové Mesto</td>\n",
       "      <td>44458</td>\n",
       "      <td>20981</td>\n",
       "      <td>47.19</td>\n",
       "      <td>23477</td>\n",
       "      <td>52.81</td>\n",
       "    </tr>\n",
       "    <tr>\n",
       "      <th>5</th>\n",
       "      <td>SK0103529354</td>\n",
       "      <td>Bratislava - mestská časť Rača</td>\n",
       "      <td>25733</td>\n",
       "      <td>12717</td>\n",
       "      <td>49.42</td>\n",
       "      <td>13016</td>\n",
       "      <td>50.58</td>\n",
       "    </tr>\n",
       "    <tr>\n",
       "      <th>6</th>\n",
       "      <td>SK0103529362</td>\n",
       "      <td>Bratislava - mestská časť Vajnory</td>\n",
       "      <td>6079</td>\n",
       "      <td>3056</td>\n",
       "      <td>50.27</td>\n",
       "      <td>3023</td>\n",
       "      <td>49.73</td>\n",
       "    </tr>\n",
       "  </tbody>\n",
       "</table>\n",
       "</div>"
      ],
      "text/plain": [
       "            Kód                                 Územná jednotka  Spolu  \\\n",
       "0  SK0101528595           Bratislava - mestská časť Staré Mesto  46080   \n",
       "1  SK0102529311  Bratislava - mestská časť Podunajské Biskupice  23464   \n",
       "2  SK0102529320               Bratislava - mestská časť Ružinov  81004   \n",
       "3  SK0102529338               Bratislava - mestská časť Vrakuňa  20711   \n",
       "4  SK0103529346            Bratislava - mestská časť Nové Mesto  44458   \n",
       "5  SK0103529354                  Bratislava - mestská časť Rača  25733   \n",
       "6  SK0103529362               Bratislava - mestská časť Vajnory   6079   \n",
       "\n",
       "   muži (abs.)  muži (%)  ženy (abs.)  ženy (%)  \n",
       "0        22210     48.20        23870     51.80  \n",
       "1        11193     47.70        12271     52.30  \n",
       "2        37575     46.39        43429     53.61  \n",
       "3         9945     48.02        10766     51.98  \n",
       "4        20981     47.19        23477     52.81  \n",
       "5        12717     49.42        13016     50.58  \n",
       "6         3056     50.27         3023     49.73  "
      ]
     },
     "execution_count": 6,
     "metadata": {},
     "output_type": "execute_result"
    }
   ],
   "source": [
    "df_cities = pd.read_csv(\"data/obyvatelia_na_obec.csv\")\n",
    "\n",
    "assert df_cities.shape[0] == 2927, \"Number of municipalities doesn't match\"\n",
    "df_cities.head(7)"
   ]
  }
 ],
 "metadata": {
  "kernelspec": {
   "display_name": ".venv",
   "language": "python",
   "name": "python3"
  },
  "language_info": {
   "codemirror_mode": {
    "name": "ipython",
    "version": 3
   },
   "file_extension": ".py",
   "mimetype": "text/x-python",
   "name": "python",
   "nbconvert_exporter": "python",
   "pygments_lexer": "ipython3",
   "version": "3.11.1"
  }
 },
 "nbformat": 4,
 "nbformat_minor": 2
}
