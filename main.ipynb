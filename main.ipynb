{
 "cells": [
  {
   "cell_type": "code",
   "execution_count": 1,
   "metadata": {},
   "outputs": [],
   "source": [
    "from src.utils.coordinates_util import get_coordinates_for_city, haversine_distance\n",
    "from src.scrapers.scrapers import BasicScraper"
   ]
  },
  {
   "cell_type": "code",
   "execution_count": 2,
   "metadata": {},
   "outputs": [],
   "source": [
    "def assert_gps_coordinates_equal(coord1, coord2, tolerance=1e-2):\n",
    "    assert (\n",
    "        abs(coord1[0] - coord2[0]) < tolerance\n",
    "    ), f\"Latitude difference exceeds tolerance: {coord1[0]} vs {coord2[0]}\"\n",
    "    assert (\n",
    "        abs(coord1[1] - coord2[1]) < tolerance\n",
    "    ), f\"Longitude difference exceeds tolerance: {coord1[1]} vs {coord2[1]}\"\n",
    "\n",
    "\n",
    "expected_coordinates = (48.89452, 18.04436)\n",
    "actual_coordinates = get_coordinates_for_city(\"Trenčín\")\n",
    "\n",
    "assert_gps_coordinates_equal(actual_coordinates, expected_coordinates)"
   ]
  },
  {
   "cell_type": "code",
   "execution_count": 3,
   "metadata": {},
   "outputs": [
    {
     "name": "stdout",
     "output_type": "stream",
     "text": [
      "Coordinates not found for Ul. gen. M. R. Štefánika 426, 911 01 Trenčín\n"
     ]
    }
   ],
   "source": [
    "get_coordinates_for_city(\"Ul. gen. M. R. Štefánika 426, 911 01 Trenčín\")"
   ]
  },
  {
   "cell_type": "code",
   "execution_count": 4,
   "metadata": {},
   "outputs": [
    {
     "data": {
      "text/plain": [
       "(48.8906828, 18.0566796)"
      ]
     },
     "execution_count": 4,
     "metadata": {},
     "output_type": "execute_result"
    }
   ],
   "source": [
    "get_coordinates_for_city(\"gen. M. R. Štefánika 426, 911 01 Trenčín\")"
   ]
  },
  {
   "cell_type": "code",
   "execution_count": 8,
   "metadata": {},
   "outputs": [
    {
     "name": "stdout",
     "output_type": "stream",
     "text": [
      "The distance between Bratislava and Košice is 309.44 kilometers.\n"
     ]
    }
   ],
   "source": [
    "city1 = \"Bratislava\"\n",
    "city2 = \"Košice\"\n",
    "\n",
    "coord1 = get_coordinates_for_city(city1)\n",
    "coord2 = get_coordinates_for_city(city2)\n",
    "\n",
    "if coord1 and coord2:\n",
    "    distance = haversine_distance(coord1, coord2)\n",
    "    print(f\"The distance between {city1} and {city2} is {distance:.2f} kilometers.\")\n",
    "else:\n",
    "    print(\"Unable to get coordinates for one or both cities.\")"
   ]
  }
 ],
 "metadata": {
  "kernelspec": {
   "display_name": ".venv",
   "language": "python",
   "name": "python3"
  },
  "language_info": {
   "codemirror_mode": {
    "name": "ipython",
    "version": 3
   },
   "file_extension": ".py",
   "mimetype": "text/x-python",
   "name": "python",
   "nbconvert_exporter": "python",
   "pygments_lexer": "ipython3",
   "version": "3.11.1"
  }
 },
 "nbformat": 4,
 "nbformat_minor": 2
}
