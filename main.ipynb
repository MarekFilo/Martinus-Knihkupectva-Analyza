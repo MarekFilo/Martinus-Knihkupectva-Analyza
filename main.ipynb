{
 "cells": [
  {
   "cell_type": "markdown",
   "metadata": {},
   "source": [
    "### Import potrebných knižníc"
   ]
  },
  {
   "cell_type": "code",
   "execution_count": 1,
   "metadata": {},
   "outputs": [],
   "source": [
    "from src.utils.coordinates_util import get_coordinates_for_city, haversine_distance\n",
    "from src.scrapers.scrapers import BasicScraper\n",
    "from src.types.types import Coordinates, URL, CSSSelector\n",
    "from typing import List, Tuple\n",
    "import seaborn as sns\n",
    "\n",
    "import folium\n",
    "import pandas as pd"
   ]
  },
  {
   "cell_type": "markdown",
   "metadata": {},
   "source": [
    "### Overenie GPS súradníc\n",
    "- Funkcia na overenie rovnosti dvoch sád GPS súradníc s určitým tolerančným rozpätím.\n",
    "- Demonštruje použitie funkcie porovnávaním očakávaných a skutočných súradníc pre Trenčín."
   ]
  },
  {
   "cell_type": "code",
   "execution_count": 2,
   "metadata": {},
   "outputs": [],
   "source": [
    "def assert_gps_coordinates_equal(\n",
    "    coord1: Coordinates, coord2: Coordinates, tolerance: float = 1e-2\n",
    "):\n",
    "    \"\"\"\n",
    "    Assert that two GPS coordinates are equal within a specified tolerance.\n",
    "\n",
    "    Parameters:\n",
    "    - coord1 (Coordinates): The first set of GPS coordinates.\n",
    "    - coord2 (Coordinates): The second set of GPS coordinates.\n",
    "    - tolerance (float): Tolerance level for latitude and longitude differences. Defaults to 1e-2.\n",
    "\n",
    "    Raises:\n",
    "    - AssertionError: If the latitude or longitude difference exceeds the specified tolerance,\n",
    "      an AssertionError is raised with details about the differences.\n",
    "    \"\"\"\n",
    "    assert (\n",
    "        abs(coord1.latitude - coord2.latitude) < tolerance\n",
    "    ), f\"Latitude difference exceeds tolerance: {coord1.latitude} vs {coord2.latitude}\"\n",
    "    assert (\n",
    "        abs(coord1.longitude - coord2.longitude) < tolerance\n",
    "    ), f\"Longitude difference exceeds tolerance: {coord1.longitude} vs {coord2.longitude}\"\n",
    "\n",
    "\n",
    "expected_coordinates: Coordinates = Coordinates(48.89452, 18.04436)\n",
    "\n",
    "\n",
    "actual_coordinates: Coordinates = get_coordinates_for_city(\"Trenčín\")\n",
    "\n",
    "\n",
    "assert_gps_coordinates_equal(actual_coordinates, expected_coordinates)"
   ]
  },
  {
   "cell_type": "markdown",
   "metadata": {},
   "source": [
    "### Načítanie a preskúmanie dát\n",
    "- Načítanie datasetu obsahujúceho informácie o obciach na Slovensku - [Dataset](https://www.scitanie.sk/obyvatelia/zakladne-vysledky/pocet-obyvatelov/SR/SK0/OB)\n",
    "- Kontrola velkosti dataframe-u"
   ]
  },
  {
   "cell_type": "code",
   "execution_count": 3,
   "metadata": {},
   "outputs": [
    {
     "data": {
      "text/html": [
       "<div>\n",
       "<style scoped>\n",
       "    .dataframe tbody tr th:only-of-type {\n",
       "        vertical-align: middle;\n",
       "    }\n",
       "\n",
       "    .dataframe tbody tr th {\n",
       "        vertical-align: top;\n",
       "    }\n",
       "\n",
       "    .dataframe thead th {\n",
       "        text-align: right;\n",
       "    }\n",
       "</style>\n",
       "<table border=\"1\" class=\"dataframe\">\n",
       "  <thead>\n",
       "    <tr style=\"text-align: right;\">\n",
       "      <th></th>\n",
       "      <th>Kód</th>\n",
       "      <th>Územná jednotka</th>\n",
       "      <th>Spolu</th>\n",
       "      <th>muži (abs.)</th>\n",
       "      <th>muži (%)</th>\n",
       "      <th>ženy (abs.)</th>\n",
       "      <th>ženy (%)</th>\n",
       "    </tr>\n",
       "  </thead>\n",
       "  <tbody>\n",
       "    <tr>\n",
       "      <th>0</th>\n",
       "      <td>SK0101528595</td>\n",
       "      <td>Bratislava - mestská časť Staré Mesto</td>\n",
       "      <td>46080</td>\n",
       "      <td>22210</td>\n",
       "      <td>48.20</td>\n",
       "      <td>23870</td>\n",
       "      <td>51.80</td>\n",
       "    </tr>\n",
       "    <tr>\n",
       "      <th>1</th>\n",
       "      <td>SK0102529311</td>\n",
       "      <td>Bratislava - mestská časť Podunajské Biskupice</td>\n",
       "      <td>23464</td>\n",
       "      <td>11193</td>\n",
       "      <td>47.70</td>\n",
       "      <td>12271</td>\n",
       "      <td>52.30</td>\n",
       "    </tr>\n",
       "    <tr>\n",
       "      <th>2</th>\n",
       "      <td>SK0102529320</td>\n",
       "      <td>Bratislava - mestská časť Ružinov</td>\n",
       "      <td>81004</td>\n",
       "      <td>37575</td>\n",
       "      <td>46.39</td>\n",
       "      <td>43429</td>\n",
       "      <td>53.61</td>\n",
       "    </tr>\n",
       "    <tr>\n",
       "      <th>3</th>\n",
       "      <td>SK0102529338</td>\n",
       "      <td>Bratislava - mestská časť Vrakuňa</td>\n",
       "      <td>20711</td>\n",
       "      <td>9945</td>\n",
       "      <td>48.02</td>\n",
       "      <td>10766</td>\n",
       "      <td>51.98</td>\n",
       "    </tr>\n",
       "    <tr>\n",
       "      <th>4</th>\n",
       "      <td>SK0103529346</td>\n",
       "      <td>Bratislava - mestská časť Nové Mesto</td>\n",
       "      <td>44458</td>\n",
       "      <td>20981</td>\n",
       "      <td>47.19</td>\n",
       "      <td>23477</td>\n",
       "      <td>52.81</td>\n",
       "    </tr>\n",
       "    <tr>\n",
       "      <th>5</th>\n",
       "      <td>SK0103529354</td>\n",
       "      <td>Bratislava - mestská časť Rača</td>\n",
       "      <td>25733</td>\n",
       "      <td>12717</td>\n",
       "      <td>49.42</td>\n",
       "      <td>13016</td>\n",
       "      <td>50.58</td>\n",
       "    </tr>\n",
       "    <tr>\n",
       "      <th>6</th>\n",
       "      <td>SK0103529362</td>\n",
       "      <td>Bratislava - mestská časť Vajnory</td>\n",
       "      <td>6079</td>\n",
       "      <td>3056</td>\n",
       "      <td>50.27</td>\n",
       "      <td>3023</td>\n",
       "      <td>49.73</td>\n",
       "    </tr>\n",
       "  </tbody>\n",
       "</table>\n",
       "</div>"
      ],
      "text/plain": [
       "            Kód                                 Územná jednotka  Spolu  \\\n",
       "0  SK0101528595           Bratislava - mestská časť Staré Mesto  46080   \n",
       "1  SK0102529311  Bratislava - mestská časť Podunajské Biskupice  23464   \n",
       "2  SK0102529320               Bratislava - mestská časť Ružinov  81004   \n",
       "3  SK0102529338               Bratislava - mestská časť Vrakuňa  20711   \n",
       "4  SK0103529346            Bratislava - mestská časť Nové Mesto  44458   \n",
       "5  SK0103529354                  Bratislava - mestská časť Rača  25733   \n",
       "6  SK0103529362               Bratislava - mestská časť Vajnory   6079   \n",
       "\n",
       "   muži (abs.)  muži (%)  ženy (abs.)  ženy (%)  \n",
       "0        22210     48.20        23870     51.80  \n",
       "1        11193     47.70        12271     52.30  \n",
       "2        37575     46.39        43429     53.61  \n",
       "3         9945     48.02        10766     51.98  \n",
       "4        20981     47.19        23477     52.81  \n",
       "5        12717     49.42        13016     50.58  \n",
       "6         3056     50.27         3023     49.73  "
      ]
     },
     "execution_count": 3,
     "metadata": {},
     "output_type": "execute_result"
    }
   ],
   "source": [
    "df: pd.DataFrame = pd.read_csv(\"data/obyvatelia_na_obec.csv\")\n",
    "\n",
    "assert df.shape[0] == 2927, \"Number of municipalities doesn't match\"\n",
    "df.head(7)"
   ]
  },
  {
   "cell_type": "markdown",
   "metadata": {},
   "source": [
    "### Predspracovanie dát\n",
    "- Výber potrebných stĺpcov\n",
    "- Premenovanie stĺpcov"
   ]
  },
  {
   "cell_type": "code",
   "execution_count": 4,
   "metadata": {},
   "outputs": [],
   "source": [
    "selected_columns: List[str] = [\"Územná jednotka\", \"Spolu\"]\n",
    "df: pd.DataFrame = df[selected_columns]\n",
    "df: pd.DataFrame = df.rename(columns={\"Územná jednotka\": \"City\", \"Spolu\": \"Population\"})"
   ]
  },
  {
   "cell_type": "code",
   "execution_count": 5,
   "metadata": {},
   "outputs": [
    {
     "data": {
      "text/html": [
       "<div>\n",
       "<style scoped>\n",
       "    .dataframe tbody tr th:only-of-type {\n",
       "        vertical-align: middle;\n",
       "    }\n",
       "\n",
       "    .dataframe tbody tr th {\n",
       "        vertical-align: top;\n",
       "    }\n",
       "\n",
       "    .dataframe thead th {\n",
       "        text-align: right;\n",
       "    }\n",
       "</style>\n",
       "<table border=\"1\" class=\"dataframe\">\n",
       "  <thead>\n",
       "    <tr style=\"text-align: right;\">\n",
       "      <th></th>\n",
       "      <th>City</th>\n",
       "      <th>Population</th>\n",
       "    </tr>\n",
       "  </thead>\n",
       "  <tbody>\n",
       "    <tr>\n",
       "      <th>0</th>\n",
       "      <td>Bratislava - mestská časť Staré Mesto</td>\n",
       "      <td>46080</td>\n",
       "    </tr>\n",
       "    <tr>\n",
       "      <th>1</th>\n",
       "      <td>Bratislava - mestská časť Podunajské Biskupice</td>\n",
       "      <td>23464</td>\n",
       "    </tr>\n",
       "    <tr>\n",
       "      <th>2</th>\n",
       "      <td>Bratislava - mestská časť Ružinov</td>\n",
       "      <td>81004</td>\n",
       "    </tr>\n",
       "    <tr>\n",
       "      <th>3</th>\n",
       "      <td>Bratislava - mestská časť Vrakuňa</td>\n",
       "      <td>20711</td>\n",
       "    </tr>\n",
       "    <tr>\n",
       "      <th>4</th>\n",
       "      <td>Bratislava - mestská časť Nové Mesto</td>\n",
       "      <td>44458</td>\n",
       "    </tr>\n",
       "    <tr>\n",
       "      <th>5</th>\n",
       "      <td>Bratislava - mestská časť Rača</td>\n",
       "      <td>25733</td>\n",
       "    </tr>\n",
       "    <tr>\n",
       "      <th>6</th>\n",
       "      <td>Bratislava - mestská časť Vajnory</td>\n",
       "      <td>6079</td>\n",
       "    </tr>\n",
       "  </tbody>\n",
       "</table>\n",
       "</div>"
      ],
      "text/plain": [
       "                                             City  Population\n",
       "0           Bratislava - mestská časť Staré Mesto       46080\n",
       "1  Bratislava - mestská časť Podunajské Biskupice       23464\n",
       "2               Bratislava - mestská časť Ružinov       81004\n",
       "3               Bratislava - mestská časť Vrakuňa       20711\n",
       "4            Bratislava - mestská časť Nové Mesto       44458\n",
       "5                  Bratislava - mestská časť Rača       25733\n",
       "6               Bratislava - mestská časť Vajnory        6079"
      ]
     },
     "execution_count": 5,
     "metadata": {},
     "output_type": "execute_result"
    }
   ],
   "source": [
    "df.head(7)"
   ]
  },
  {
   "cell_type": "markdown",
   "metadata": {},
   "source": [
    "- Kontrola chýbajúcich hodnôt"
   ]
  },
  {
   "cell_type": "code",
   "execution_count": 6,
   "metadata": {},
   "outputs": [],
   "source": [
    "assert df.isna().sum().sum() == 0, \"data contains null values\""
   ]
  },
  {
   "cell_type": "markdown",
   "metadata": {},
   "source": [
    "### Analýza obyvateľstva\n",
    "- Zoskupenie a sčítanie obyvateľov pre jednotlivé časti Bratislavy a Košíc"
   ]
  },
  {
   "cell_type": "code",
   "execution_count": 7,
   "metadata": {},
   "outputs": [
    {
     "data": {
      "text/html": [
       "<div>\n",
       "<style scoped>\n",
       "    .dataframe tbody tr th:only-of-type {\n",
       "        vertical-align: middle;\n",
       "    }\n",
       "\n",
       "    .dataframe tbody tr th {\n",
       "        vertical-align: top;\n",
       "    }\n",
       "\n",
       "    .dataframe thead th {\n",
       "        text-align: right;\n",
       "    }\n",
       "</style>\n",
       "<table border=\"1\" class=\"dataframe\">\n",
       "  <thead>\n",
       "    <tr style=\"text-align: right;\">\n",
       "      <th></th>\n",
       "      <th>City</th>\n",
       "      <th>Population</th>\n",
       "    </tr>\n",
       "  </thead>\n",
       "  <tbody>\n",
       "    <tr>\n",
       "      <th>0</th>\n",
       "      <td>Bratislava</td>\n",
       "      <td>475503</td>\n",
       "    </tr>\n",
       "    <tr>\n",
       "      <th>1</th>\n",
       "      <td>Košice</td>\n",
       "      <td>229040</td>\n",
       "    </tr>\n",
       "  </tbody>\n",
       "</table>\n",
       "</div>"
      ],
      "text/plain": [
       "         City  Population\n",
       "0  Bratislava      475503\n",
       "1      Košice      229040"
      ]
     },
     "execution_count": 7,
     "metadata": {},
     "output_type": "execute_result"
    }
   ],
   "source": [
    "bratislava_population: pd.DataFrame = df[df[\"City\"].str.startswith(\"Bratislava\")][\n",
    "    \"Population\"\n",
    "].sum()\n",
    "\n",
    "kosice_population: pd.DataFrame = df[df[\"City\"].str.startswith(\"Košice\")][\n",
    "    \"Population\"\n",
    "].sum()\n",
    "\n",
    "\n",
    "df_grouped: pd.DataFrame = pd.DataFrame(\n",
    "    {\n",
    "        \"City\": [\"Bratislava\", \"Košice\"],\n",
    "        \"Population\": [bratislava_population, kosice_population],\n",
    "    }\n",
    ")\n",
    "\n",
    "df_grouped"
   ]
  },
  {
   "cell_type": "markdown",
   "metadata": {},
   "source": [
    "- Kombinácia dataframe-ov"
   ]
  },
  {
   "cell_type": "code",
   "execution_count": 8,
   "metadata": {},
   "outputs": [
    {
     "data": {
      "text/html": [
       "<div>\n",
       "<style scoped>\n",
       "    .dataframe tbody tr th:only-of-type {\n",
       "        vertical-align: middle;\n",
       "    }\n",
       "\n",
       "    .dataframe tbody tr th {\n",
       "        vertical-align: top;\n",
       "    }\n",
       "\n",
       "    .dataframe thead th {\n",
       "        text-align: right;\n",
       "    }\n",
       "</style>\n",
       "<table border=\"1\" class=\"dataframe\">\n",
       "  <thead>\n",
       "    <tr style=\"text-align: right;\">\n",
       "      <th></th>\n",
       "      <th>City</th>\n",
       "      <th>Population</th>\n",
       "    </tr>\n",
       "  </thead>\n",
       "  <tbody>\n",
       "    <tr>\n",
       "      <th>2888</th>\n",
       "      <td>Bratislava</td>\n",
       "      <td>475503</td>\n",
       "    </tr>\n",
       "    <tr>\n",
       "      <th>2889</th>\n",
       "      <td>Košice</td>\n",
       "      <td>229040</td>\n",
       "    </tr>\n",
       "    <tr>\n",
       "      <th>2060</th>\n",
       "      <td>Prešov</td>\n",
       "      <td>84824</td>\n",
       "    </tr>\n",
       "    <tr>\n",
       "      <th>1215</th>\n",
       "      <td>Žilina</td>\n",
       "      <td>82656</td>\n",
       "    </tr>\n",
       "    <tr>\n",
       "      <th>729</th>\n",
       "      <td>Nitra</td>\n",
       "      <td>78489</td>\n",
       "    </tr>\n",
       "  </tbody>\n",
       "</table>\n",
       "</div>"
      ],
      "text/plain": [
       "            City  Population\n",
       "2888  Bratislava      475503\n",
       "2889      Košice      229040\n",
       "2060      Prešov       84824\n",
       "1215      Žilina       82656\n",
       "729        Nitra       78489"
      ]
     },
     "execution_count": 8,
     "metadata": {},
     "output_type": "execute_result"
    }
   ],
   "source": [
    "df_dummy: pd.DataFrame = df[\n",
    "    ~df[\"City\"].str.startswith(\"Bratislava\") & ~df[\"City\"].str.startswith(\"Košice\")\n",
    "]\n",
    "\n",
    "df_cities: pd.DataFrame = pd.concat([df_dummy, df_grouped], ignore_index=True)\n",
    "\n",
    "df_cities.sort_values(\"Population\", ascending=False).head()"
   ]
  },
  {
   "cell_type": "markdown",
   "metadata": {},
   "source": [
    "### Webové scrapovanie informácií o predajniach Martinus\n",
    "- Scrape-ovanie informácii o predajniach Martinus z webu, čistenie názvov miest a ulíc\n",
    "- Overenie rovnosti počtu miest a ulíc proti očakávanej hodnote"
   ]
  },
  {
   "cell_type": "code",
   "execution_count": 9,
   "metadata": {},
   "outputs": [],
   "source": [
    "martinus_website: URL = \"https://www.martinus.sk/knihkupectva\"\n",
    "\n",
    "martinus_cities_path: CSSSelector = \"div.card__content.mt-none h3\"\n",
    "martinus_streets_path: CSSSelector = \"div.card__content.mt-none p:first-of-type\"\n",
    "\n",
    "martinus: BasicScraper = BasicScraper(martinus_website)\n",
    "\n",
    "martinus_cities: List[str] = martinus.scrape(martinus_cities_path)\n",
    "\n",
    "martinus_cities_clean: List[str] = [\n",
    "    city.split(\"-\")[0].strip() if \"-\" in city else city.split(\"(\")[0].strip()\n",
    "    for city in martinus_cities\n",
    "]\n",
    "\n",
    "martinus_streets: List[str] = martinus.scrape(martinus_streets_path)\n",
    "\n",
    "martinus_streets_clean: List[str] = [\n",
    "    street.split(\",\")[1].strip() if \",\" in street else street.strip()\n",
    "    for street in martinus_streets\n",
    "]\n",
    "\n",
    "assert len(martinus_cities_clean) == len(\n",
    "    martinus_streets_clean\n",
    "), \"Number of streets does not match number of cities\"\n",
    "\n",
    "assert (\n",
    "    len(martinus_streets_clean) == 31\n",
    "), \"Scraped number of shops does not match the real number as of 7.1.2024\""
   ]
  },
  {
   "cell_type": "markdown",
   "metadata": {},
   "source": [
    "### Zobrazenie adries predajní Martinusu\n",
    "- Výpis adries pre vizuálnu kontrolu"
   ]
  },
  {
   "cell_type": "code",
   "execution_count": 10,
   "metadata": {},
   "outputs": [
    {
     "name": "stdout",
     "output_type": "stream",
     "text": [
      "('Bratislava', 'Obchodná 26')\n",
      "('Bratislava', 'Staré Grunty 24')\n",
      "('Bratislava', 'Autobusová stanica Mlynské Nivy')\n",
      "('Banská Bystrica', 'Ul. 29 augusta 37')\n",
      "('Lučenec', 'Námestie republiky 5994/32')\n",
      "('Zvolen', 'OC Klokan - Obchodná 10325/21')\n",
      "('Banská Štiavnica', 'Radničné námestie 19')\n",
      "('Revúca', 'Muránska ulica 1337/16')\n",
      "('Rimavská Sobota', 'Francisciho 2')\n",
      "('Košice', 'Toryská 5')\n",
      "('Košice', 'Hlavná 111')\n",
      "('Trebišov', 'M. R. Štefánika 2329')\n",
      "('Levice', 'Ľ. Štúra 1A')\n",
      "('Nitra', 'Akademická 1/A')\n",
      "('Nitra', 'Napervillská 4837/5')\n",
      "('Poprad', 'Námestie svätého Egídia 3290/124')\n",
      "('Prešov', 'Námestie legionárov 1')\n",
      "('Humenné', 'Nám. slobody 62')\n",
      "('Kežmarok', 'Hviezdoslavova 10')\n",
      "('Sabinov', 'Námestie slobody 32')\n",
      "('Svidník', 'Sovietskych hrdinov 165/62')\n",
      "('Považská Bystrica', 'Centrum 8')\n",
      "('Ilava', 'Moyzesova 1871/123')\n",
      "('Myjava', 'M.R.Štefánika 929')\n",
      "('Nové Mesto nad Váhom', 'Weisseho 15/2615')\n",
      "('Trnava', 'Dolné Bašty 8833/14')\n",
      "('Liptovský Mikuláš', 'Kamenné pole 4449/3')\n",
      "('Martin', 'Námestie SNP 11376/2')\n",
      "('Žilina', 'Námestie A. Hlinku 7/B')\n",
      "('Dolný Kubín', 'Radlinského 30')\n",
      "('Turzovka', 'Stred 157- Srdce Turzovky')\n"
     ]
    }
   ],
   "source": [
    "martinus_adresses: List[Tuple] = [\n",
    "    (city, street)\n",
    "    for street, city in zip(martinus_streets_clean, martinus_cities_clean)\n",
    "]\n",
    "\n",
    "for adress in martinus_adresses:\n",
    "    print(adress)"
   ]
  },
  {
   "cell_type": "markdown",
   "metadata": {},
   "source": [
    "- Prevod do dataframe-u"
   ]
  },
  {
   "cell_type": "code",
   "execution_count": 11,
   "metadata": {},
   "outputs": [
    {
     "data": {
      "text/html": [
       "<div>\n",
       "<style scoped>\n",
       "    .dataframe tbody tr th:only-of-type {\n",
       "        vertical-align: middle;\n",
       "    }\n",
       "\n",
       "    .dataframe tbody tr th {\n",
       "        vertical-align: top;\n",
       "    }\n",
       "\n",
       "    .dataframe thead th {\n",
       "        text-align: right;\n",
       "    }\n",
       "</style>\n",
       "<table border=\"1\" class=\"dataframe\">\n",
       "  <thead>\n",
       "    <tr style=\"text-align: right;\">\n",
       "      <th></th>\n",
       "      <th>City</th>\n",
       "      <th>Street</th>\n",
       "    </tr>\n",
       "  </thead>\n",
       "  <tbody>\n",
       "    <tr>\n",
       "      <th>0</th>\n",
       "      <td>Bratislava</td>\n",
       "      <td>Obchodná 26</td>\n",
       "    </tr>\n",
       "    <tr>\n",
       "      <th>1</th>\n",
       "      <td>Bratislava</td>\n",
       "      <td>Staré Grunty 24</td>\n",
       "    </tr>\n",
       "    <tr>\n",
       "      <th>2</th>\n",
       "      <td>Bratislava</td>\n",
       "      <td>Autobusová stanica Mlynské Nivy</td>\n",
       "    </tr>\n",
       "    <tr>\n",
       "      <th>3</th>\n",
       "      <td>Banská Bystrica</td>\n",
       "      <td>Ul. 29 augusta 37</td>\n",
       "    </tr>\n",
       "    <tr>\n",
       "      <th>4</th>\n",
       "      <td>Lučenec</td>\n",
       "      <td>Námestie republiky 5994/32</td>\n",
       "    </tr>\n",
       "  </tbody>\n",
       "</table>\n",
       "</div>"
      ],
      "text/plain": [
       "              City                           Street\n",
       "0       Bratislava                      Obchodná 26\n",
       "1       Bratislava                  Staré Grunty 24\n",
       "2       Bratislava  Autobusová stanica Mlynské Nivy\n",
       "3  Banská Bystrica                Ul. 29 augusta 37\n",
       "4          Lučenec       Námestie republiky 5994/32"
      ]
     },
     "execution_count": 11,
     "metadata": {},
     "output_type": "execute_result"
    }
   ],
   "source": [
    "df_cities_w_Martinus: pd.DataFrame = pd.DataFrame(martinus_adresses)\n",
    "\n",
    "df_cities_w_Martinus.columns = [\"City\", \"Street\"]\n",
    "df_cities_w_Martinus.head()"
   ]
  },
  {
   "cell_type": "markdown",
   "metadata": {},
   "source": [
    "### Geokódovanie adries predajní Martinusu\n",
    "- GPS súradnice pre adresy predajní Martinusu\n",
    "- Výpis miest, ktoré sa nepodarilo geokódovať"
   ]
  },
  {
   "cell_type": "code",
   "execution_count": 12,
   "metadata": {},
   "outputs": [],
   "source": [
    "def get_coordinates_for_dataframe(df: pd.DataFrame) -> Tuple[pd.DataFrame, int]:\n",
    "    \"\"\"\n",
    "    Get coordinates for a DataFrame by applying get_coordinates_for_address to each row.\n",
    "\n",
    "    Parameters:\n",
    "    - df (pd.DataFrame): Input DataFrame with columns 'City' and 'Street'.\n",
    "\n",
    "    Returns:\n",
    "    - Tuple[pd.DataFrame, int]: A tuple containing the DataFrame with added 'Coordinates' column\n",
    "      and the number of missing coordinates.\n",
    "    \"\"\"\n",
    "\n",
    "    def get_coordinates_for_address(row):\n",
    "        address = f\"{row['Street']} {row['City']}\"\n",
    "        return get_coordinates_for_city(address)\n",
    "\n",
    "    df[\"Coordinates\"] = df.apply(get_coordinates_for_address, axis=1)\n",
    "    missing_coordinates = df[\"Coordinates\"].isna().sum().sum()\n",
    "\n",
    "    return df, missing_coordinates"
   ]
  },
  {
   "cell_type": "code",
   "execution_count": 13,
   "metadata": {},
   "outputs": [
    {
     "name": "stdout",
     "output_type": "stream",
     "text": [
      "Coordinates not found for OC Klokan - Obchodná 10325/21 Zvolen\n",
      "Coordinates not found for Stred 157- Srdce Turzovky Turzovka\n",
      "Number of missing coordinates: 2\n"
     ]
    },
    {
     "data": {
      "text/html": [
       "<div>\n",
       "<style scoped>\n",
       "    .dataframe tbody tr th:only-of-type {\n",
       "        vertical-align: middle;\n",
       "    }\n",
       "\n",
       "    .dataframe tbody tr th {\n",
       "        vertical-align: top;\n",
       "    }\n",
       "\n",
       "    .dataframe thead th {\n",
       "        text-align: right;\n",
       "    }\n",
       "</style>\n",
       "<table border=\"1\" class=\"dataframe\">\n",
       "  <thead>\n",
       "    <tr style=\"text-align: right;\">\n",
       "      <th></th>\n",
       "      <th>City</th>\n",
       "      <th>Street</th>\n",
       "      <th>Coordinates</th>\n",
       "    </tr>\n",
       "  </thead>\n",
       "  <tbody>\n",
       "    <tr>\n",
       "      <th>0</th>\n",
       "      <td>Bratislava</td>\n",
       "      <td>Obchodná 26</td>\n",
       "      <td>(48.14718, 17.11001)</td>\n",
       "    </tr>\n",
       "    <tr>\n",
       "      <th>1</th>\n",
       "      <td>Bratislava</td>\n",
       "      <td>Staré Grunty 24</td>\n",
       "      <td>(48.1581155, 17.06974372915665)</td>\n",
       "    </tr>\n",
       "    <tr>\n",
       "      <th>2</th>\n",
       "      <td>Bratislava</td>\n",
       "      <td>Autobusová stanica Mlynské Nivy</td>\n",
       "      <td>(48.1468327, 17.128482)</td>\n",
       "    </tr>\n",
       "    <tr>\n",
       "      <th>3</th>\n",
       "      <td>Banská Bystrica</td>\n",
       "      <td>Ul. 29 augusta 37</td>\n",
       "      <td>(48.7363849, 19.1632147)</td>\n",
       "    </tr>\n",
       "    <tr>\n",
       "      <th>4</th>\n",
       "      <td>Lučenec</td>\n",
       "      <td>Námestie republiky 5994/32</td>\n",
       "      <td>(48.3307838, 19.6611366)</td>\n",
       "    </tr>\n",
       "  </tbody>\n",
       "</table>\n",
       "</div>"
      ],
      "text/plain": [
       "              City                           Street  \\\n",
       "0       Bratislava                      Obchodná 26   \n",
       "1       Bratislava                  Staré Grunty 24   \n",
       "2       Bratislava  Autobusová stanica Mlynské Nivy   \n",
       "3  Banská Bystrica                Ul. 29 augusta 37   \n",
       "4          Lučenec       Námestie republiky 5994/32   \n",
       "\n",
       "                       Coordinates  \n",
       "0             (48.14718, 17.11001)  \n",
       "1  (48.1581155, 17.06974372915665)  \n",
       "2          (48.1468327, 17.128482)  \n",
       "3         (48.7363849, 19.1632147)  \n",
       "4         (48.3307838, 19.6611366)  "
      ]
     },
     "execution_count": 13,
     "metadata": {},
     "output_type": "execute_result"
    }
   ],
   "source": [
    "df_cities_w_Martinus, missing_coordinates = get_coordinates_for_dataframe(\n",
    "    df_cities_w_Martinus\n",
    ")\n",
    "\n",
    "print(f\"Number of missing coordinates: {missing_coordinates}\")\n",
    "\n",
    "df_cities_w_Martinus.head()"
   ]
  },
  {
   "cell_type": "markdown",
   "metadata": {},
   "source": [
    "- OC Klokan a Srdce Turzovky musia byť odstránene v špecifických prípadoch"
   ]
  },
  {
   "cell_type": "code",
   "execution_count": 14,
   "metadata": {},
   "outputs": [],
   "source": [
    "df_cities_w_Martinus[\"Street\"] = df_cities_w_Martinus[\"Street\"].str.replace(\n",
    "    r\"\\bOC\\sKlokan\\s-\\s\", \"\", regex=True\n",
    ")\n",
    "\n",
    "df_cities_w_Martinus[\"Street\"] = df_cities_w_Martinus[\"Street\"].str.replace(\n",
    "    r\"-\\sSrdce Turzovky\", \"\", regex=True\n",
    ")"
   ]
  },
  {
   "cell_type": "code",
   "execution_count": 15,
   "metadata": {},
   "outputs": [
    {
     "name": "stdout",
     "output_type": "stream",
     "text": [
      "Number of missing coordinates: 0\n"
     ]
    },
    {
     "data": {
      "text/html": [
       "<div>\n",
       "<style scoped>\n",
       "    .dataframe tbody tr th:only-of-type {\n",
       "        vertical-align: middle;\n",
       "    }\n",
       "\n",
       "    .dataframe tbody tr th {\n",
       "        vertical-align: top;\n",
       "    }\n",
       "\n",
       "    .dataframe thead th {\n",
       "        text-align: right;\n",
       "    }\n",
       "</style>\n",
       "<table border=\"1\" class=\"dataframe\">\n",
       "  <thead>\n",
       "    <tr style=\"text-align: right;\">\n",
       "      <th></th>\n",
       "      <th>City</th>\n",
       "      <th>Street</th>\n",
       "      <th>Coordinates</th>\n",
       "    </tr>\n",
       "  </thead>\n",
       "  <tbody>\n",
       "    <tr>\n",
       "      <th>0</th>\n",
       "      <td>Bratislava</td>\n",
       "      <td>Obchodná 26</td>\n",
       "      <td>(48.14718, 17.11001)</td>\n",
       "    </tr>\n",
       "    <tr>\n",
       "      <th>1</th>\n",
       "      <td>Bratislava</td>\n",
       "      <td>Staré Grunty 24</td>\n",
       "      <td>(48.1581155, 17.06974372915665)</td>\n",
       "    </tr>\n",
       "    <tr>\n",
       "      <th>2</th>\n",
       "      <td>Bratislava</td>\n",
       "      <td>Autobusová stanica Mlynské Nivy</td>\n",
       "      <td>(48.1468327, 17.128482)</td>\n",
       "    </tr>\n",
       "    <tr>\n",
       "      <th>3</th>\n",
       "      <td>Banská Bystrica</td>\n",
       "      <td>Ul. 29 augusta 37</td>\n",
       "      <td>(48.7363849, 19.1632147)</td>\n",
       "    </tr>\n",
       "    <tr>\n",
       "      <th>4</th>\n",
       "      <td>Lučenec</td>\n",
       "      <td>Námestie republiky 5994/32</td>\n",
       "      <td>(48.3307838, 19.6611366)</td>\n",
       "    </tr>\n",
       "  </tbody>\n",
       "</table>\n",
       "</div>"
      ],
      "text/plain": [
       "              City                           Street  \\\n",
       "0       Bratislava                      Obchodná 26   \n",
       "1       Bratislava                  Staré Grunty 24   \n",
       "2       Bratislava  Autobusová stanica Mlynské Nivy   \n",
       "3  Banská Bystrica                Ul. 29 augusta 37   \n",
       "4          Lučenec       Námestie republiky 5994/32   \n",
       "\n",
       "                       Coordinates  \n",
       "0             (48.14718, 17.11001)  \n",
       "1  (48.1581155, 17.06974372915665)  \n",
       "2          (48.1468327, 17.128482)  \n",
       "3         (48.7363849, 19.1632147)  \n",
       "4         (48.3307838, 19.6611366)  "
      ]
     },
     "execution_count": 15,
     "metadata": {},
     "output_type": "execute_result"
    }
   ],
   "source": [
    "df_cities_w_Martinus, missing_coordinates = get_coordinates_for_dataframe(\n",
    "    df_cities_w_Martinus\n",
    ")\n",
    "\n",
    "print(f\"Number of missing coordinates: {missing_coordinates}\")\n",
    "\n",
    "df_cities_w_Martinus.head()"
   ]
  },
  {
   "cell_type": "markdown",
   "metadata": {},
   "source": [
    "- Každý obchod má vlastnú adresu a vie byť zobrazený na mapu\n",
    "- Disclaimer: Github nevie vykreslovať interaktívne grafy, preto je zobrazený iba jej screenshot pre plnú funkčnosť odporúčam notebook stiahnuť a odkomentovat časti kódu 'map'"
   ]
  },
  {
   "cell_type": "code",
   "execution_count": 16,
   "metadata": {},
   "outputs": [],
   "source": [
    "def add_marker_to_map(\n",
    "    coordinates_list: List[Coordinates], color: str, map_object: folium.Map\n",
    "):\n",
    "    \"\"\"\n",
    "    Add markers to a Folium map at specified coordinates.\n",
    "\n",
    "    Parameters:\n",
    "    - coordinates_list (List[tuple]): A list of coordinate tuples (latitude, longitude).\n",
    "    - color (str): The color of the markers.\n",
    "    - map_object (folium.Map): The Folium map object to which the markers will be added.\n",
    "\n",
    "    Raises:\n",
    "    - ValueError: If there is an error adding a marker, it raises a ValueError with an error message.\n",
    "    \"\"\"\n",
    "    for coordinates in coordinates_list:\n",
    "        try:\n",
    "            lat, lon = coordinates[0], coordinates[1]\n",
    "\n",
    "            marker = folium.Marker(\n",
    "                location=[lat, lon],\n",
    "                icon=folium.Icon(color=color),\n",
    "            )\n",
    "            map_object.add_child(marker)\n",
    "        except Exception as e:\n",
    "            raise ValueError(f\"Error adding marker: {e}\") from e"
   ]
  },
  {
   "cell_type": "markdown",
   "metadata": {},
   "source": [
    "- Vykreslenie obchodov na mapu Slovenskej Republiky"
   ]
  },
  {
   "cell_type": "code",
   "execution_count": 17,
   "metadata": {},
   "outputs": [],
   "source": [
    "martinus_map: folium.Map = folium.Map(location=[48, 20], zoom_start=8)\n",
    "\n",
    "add_marker_to_map(df_cities_w_Martinus[\"Coordinates\"], \"red\", martinus_map)\n",
    "\n",
    "# martinus_map"
   ]
  },
  {
   "cell_type": "markdown",
   "metadata": {},
   "source": [
    "![Slovakia Map](data/martinus.png)"
   ]
  },
  {
   "cell_type": "markdown",
   "metadata": {},
   "source": [
    "- Môžeme vidieť, že niektoré časti mapy su prázdne, konkrétne Prievidza, Malacky a juh Slovenska"
   ]
  },
  {
   "cell_type": "markdown",
   "metadata": {},
   "source": [
    "### Analýza obyvateľstva s predajňami Martinus\n",
    "- Spája údaje o predajniach Martinus s údajmi o mestách\n",
    "- Priemerný počet obyvateľov s predajňou Martinus\n",
    "- Medián počtu obyvateľov\n",
    "- Identifikuje mesto s najmenším obyvateľstvom, ktoré má predajňu Martinus."
   ]
  },
  {
   "cell_type": "code",
   "execution_count": 18,
   "metadata": {},
   "outputs": [
    {
     "data": {
      "text/html": [
       "<div>\n",
       "<style scoped>\n",
       "    .dataframe tbody tr th:only-of-type {\n",
       "        vertical-align: middle;\n",
       "    }\n",
       "\n",
       "    .dataframe tbody tr th {\n",
       "        vertical-align: top;\n",
       "    }\n",
       "\n",
       "    .dataframe thead th {\n",
       "        text-align: right;\n",
       "    }\n",
       "</style>\n",
       "<table border=\"1\" class=\"dataframe\">\n",
       "  <thead>\n",
       "    <tr style=\"text-align: right;\">\n",
       "      <th></th>\n",
       "      <th>City</th>\n",
       "      <th>Street</th>\n",
       "      <th>Coordinates</th>\n",
       "      <th>Population</th>\n",
       "    </tr>\n",
       "  </thead>\n",
       "  <tbody>\n",
       "    <tr>\n",
       "      <th>0</th>\n",
       "      <td>Bratislava</td>\n",
       "      <td>Obchodná 26</td>\n",
       "      <td>(48.14718, 17.11001)</td>\n",
       "      <td>475503</td>\n",
       "    </tr>\n",
       "    <tr>\n",
       "      <th>2</th>\n",
       "      <td>Bratislava</td>\n",
       "      <td>Autobusová stanica Mlynské Nivy</td>\n",
       "      <td>(48.1468327, 17.128482)</td>\n",
       "      <td>475503</td>\n",
       "    </tr>\n",
       "    <tr>\n",
       "      <th>1</th>\n",
       "      <td>Bratislava</td>\n",
       "      <td>Staré Grunty 24</td>\n",
       "      <td>(48.1581155, 17.06974372915665)</td>\n",
       "      <td>475503</td>\n",
       "    </tr>\n",
       "    <tr>\n",
       "      <th>9</th>\n",
       "      <td>Košice</td>\n",
       "      <td>Toryská 5</td>\n",
       "      <td>(48.71498605, 21.238000791523028)</td>\n",
       "      <td>229040</td>\n",
       "    </tr>\n",
       "    <tr>\n",
       "      <th>10</th>\n",
       "      <td>Košice</td>\n",
       "      <td>Hlavná 111</td>\n",
       "      <td>(48.72555895, 21.256622590976978)</td>\n",
       "      <td>229040</td>\n",
       "    </tr>\n",
       "  </tbody>\n",
       "</table>\n",
       "</div>"
      ],
      "text/plain": [
       "          City                           Street  \\\n",
       "0   Bratislava                      Obchodná 26   \n",
       "2   Bratislava  Autobusová stanica Mlynské Nivy   \n",
       "1   Bratislava                  Staré Grunty 24   \n",
       "9       Košice                        Toryská 5   \n",
       "10      Košice                       Hlavná 111   \n",
       "\n",
       "                          Coordinates  Population  \n",
       "0                (48.14718, 17.11001)      475503  \n",
       "2             (48.1468327, 17.128482)      475503  \n",
       "1     (48.1581155, 17.06974372915665)      475503  \n",
       "9   (48.71498605, 21.238000791523028)      229040  \n",
       "10  (48.72555895, 21.256622590976978)      229040  "
      ]
     },
     "execution_count": 18,
     "metadata": {},
     "output_type": "execute_result"
    }
   ],
   "source": [
    "df_cities_w_Martinus = pd.merge(df_cities_w_Martinus, df_cities, on=\"City\", how=\"left\")\n",
    "\n",
    "df_cities_w_Martinus.sort_values(\"Population\", ascending=False).head()"
   ]
  },
  {
   "cell_type": "code",
   "execution_count": 19,
   "metadata": {},
   "outputs": [
    {
     "data": {
      "text/plain": [
       "57693.11111111111"
      ]
     },
     "execution_count": 19,
     "metadata": {},
     "output_type": "execute_result"
    }
   ],
   "source": [
    "df_for_plotting = df_cities_w_Martinus.drop_duplicates(subset=[\"City\"])\n",
    "\n",
    "df_for_plotting[\"Population\"].mean()"
   ]
  },
  {
   "cell_type": "markdown",
   "metadata": {},
   "source": [
    "- Priemerný počet obyvateľov pre mestá s Martinusom je približne 58 tis. , treba si však uvedomiť , že Bratislava a Košice toto číslo skreslujú"
   ]
  },
  {
   "cell_type": "code",
   "execution_count": 20,
   "metadata": {},
   "outputs": [
    {
     "data": {
      "text/plain": [
       "30522.0"
      ]
     },
     "execution_count": 20,
     "metadata": {},
     "output_type": "execute_result"
    }
   ],
   "source": [
    "df_for_plotting[\"Population\"].median()"
   ]
  },
  {
   "cell_type": "markdown",
   "metadata": {},
   "source": [
    "- Použitie mediánu , t.j. 50. percentil nám dáva lepšiu predstavu o distribúcii"
   ]
  },
  {
   "cell_type": "markdown",
   "metadata": {},
   "source": [
    "- Tieto čísla nám tu však veľa nehovoria lebo Slovensko je pomerne mále a do hĺbky sa neoplatí zachádzať, pre predstavu môžeme načrtnúť graf"
   ]
  },
  {
   "cell_type": "code",
   "execution_count": 21,
   "metadata": {},
   "outputs": [
    {
     "data": {
      "text/plain": [
       "<Axes: xlabel='Population', ylabel='Count'>"
      ]
     },
     "execution_count": 21,
     "metadata": {},
     "output_type": "execute_result"
    },
    {
     "data": {
      "image/png": "[encoded data removed]",
      "text/plain": [
       "<Figure size 640x480 with 1 Axes>"
      ]
     },
     "metadata": {},
     "output_type": "display_data"
    }
   ],
   "source": [
    "sns.histplot(df_for_plotting[\"Population\"], bins=20)"
   ]
  },
  {
   "cell_type": "markdown",
   "metadata": {},
   "source": [
    "- Väčšina miest má menej obyvaťelov ako medián a priemer, z tohto hľadiska pre novú predajňu, pozerať sa čisto len na počet obyvateľov nemá zmysel"
   ]
  },
  {
   "cell_type": "code",
   "execution_count": 22,
   "metadata": {},
   "outputs": [
    {
     "data": {
      "text/plain": [
       "'Ilava is the smallest city (5572) with Martinus'"
      ]
     },
     "execution_count": 22,
     "metadata": {},
     "output_type": "execute_result"
    }
   ],
   "source": [
    "min_population_index: int = df_cities_w_Martinus[\"Population\"].idxmin()\n",
    "\n",
    "min_population_city: pd.Series = df_cities_w_Martinus.loc[min_population_index]\n",
    "\n",
    "f\"{min_population_city['City']} is the smallest city ({min_population_city['Population']}) with Martinus\""
   ]
  },
  {
   "cell_type": "markdown",
   "metadata": {},
   "source": [
    "- Najmenšie mesto, ktoré ma predajňu je Ilava, s počtom obyvateľov 5572, vzhľadom na to, že je to taktiež iba spriatelené knihkupectvo nepôjdeme do miest s menším počtom obyvateľov"
   ]
  },
  {
   "cell_type": "code",
   "execution_count": 23,
   "metadata": {},
   "outputs": [
    {
     "name": "stdout",
     "output_type": "stream",
     "text": [
      "93 cities are bigger than Ilava and do not have Martinus\n"
     ]
    },
    {
     "data": {
      "text/html": [
       "<div>\n",
       "<style scoped>\n",
       "    .dataframe tbody tr th:only-of-type {\n",
       "        vertical-align: middle;\n",
       "    }\n",
       "\n",
       "    .dataframe tbody tr th {\n",
       "        vertical-align: top;\n",
       "    }\n",
       "\n",
       "    .dataframe thead th {\n",
       "        text-align: right;\n",
       "    }\n",
       "</style>\n",
       "<table border=\"1\" class=\"dataframe\">\n",
       "  <thead>\n",
       "    <tr style=\"text-align: right;\">\n",
       "      <th></th>\n",
       "      <th>City</th>\n",
       "      <th>Population</th>\n",
       "    </tr>\n",
       "  </thead>\n",
       "  <tbody>\n",
       "    <tr>\n",
       "      <th>562</th>\n",
       "      <td>Trenčín</td>\n",
       "      <td>54740</td>\n",
       "    </tr>\n",
       "    <tr>\n",
       "      <th>489</th>\n",
       "      <td>Prievidza</td>\n",
       "      <td>45017</td>\n",
       "    </tr>\n",
       "    <tr>\n",
       "      <th>791</th>\n",
       "      <td>Nové Zámky</td>\n",
       "      <td>37791</td>\n",
       "    </tr>\n",
       "    <tr>\n",
       "      <th>2584</th>\n",
       "      <td>Michalovce</td>\n",
       "      <td>36704</td>\n",
       "    </tr>\n",
       "    <tr>\n",
       "      <th>2770</th>\n",
       "      <td>Spišská Nová Ves</td>\n",
       "      <td>35431</td>\n",
       "    </tr>\n",
       "  </tbody>\n",
       "</table>\n",
       "</div>"
      ],
      "text/plain": [
       "                  City  Population\n",
       "562            Trenčín       54740\n",
       "489          Prievidza       45017\n",
       "791         Nové Zámky       37791\n",
       "2584        Michalovce       36704\n",
       "2770  Spišská Nová Ves       35431"
      ]
     },
     "execution_count": 23,
     "metadata": {},
     "output_type": "execute_result"
    }
   ],
   "source": [
    "df_cities_wo_Martinus: pd.DataFrame = df_cities[\n",
    "    ~df_cities[\"City\"].isin(martinus_cities_clean)\n",
    "]\n",
    "\n",
    "df_cities_wo_Martinus: pd.DataFrame = df_cities_wo_Martinus[\n",
    "    df_cities_wo_Martinus[\"Population\"] > min_population_city[\"Population\"]\n",
    "]\n",
    "\n",
    "print(\n",
    "    f\"{df_cities_wo_Martinus.shape[0]} cities are bigger than Ilava and do not have Martinus\"\n",
    ")\n",
    "\n",
    "df_cities_wo_Martinus.sort_values(\"Population\", ascending=False).head()"
   ]
  },
  {
   "cell_type": "markdown",
   "metadata": {},
   "source": [
    "- 93 miest je väčších ako Ilava ale len 31 má predajňu, necháme len obce , ktoré sú väčšie"
   ]
  },
  {
   "cell_type": "code",
   "execution_count": 24,
   "metadata": {},
   "outputs": [
    {
     "data": {
      "text/html": [
       "<div>\n",
       "<style scoped>\n",
       "    .dataframe tbody tr th:only-of-type {\n",
       "        vertical-align: middle;\n",
       "    }\n",
       "\n",
       "    .dataframe tbody tr th {\n",
       "        vertical-align: top;\n",
       "    }\n",
       "\n",
       "    .dataframe thead th {\n",
       "        text-align: right;\n",
       "    }\n",
       "</style>\n",
       "<table border=\"1\" class=\"dataframe\">\n",
       "  <thead>\n",
       "    <tr style=\"text-align: right;\">\n",
       "      <th></th>\n",
       "      <th>City</th>\n",
       "      <th>Population</th>\n",
       "      <th>Coordinates</th>\n",
       "    </tr>\n",
       "  </thead>\n",
       "  <tbody>\n",
       "    <tr>\n",
       "      <th>17</th>\n",
       "      <td>Malacky</td>\n",
       "      <td>18935</td>\n",
       "      <td>(48.4362992, 17.0200447)</td>\n",
       "    </tr>\n",
       "    <tr>\n",
       "      <th>21</th>\n",
       "      <td>Stupava</td>\n",
       "      <td>12595</td>\n",
       "      <td>(48.273044, 17.0329528)</td>\n",
       "    </tr>\n",
       "    <tr>\n",
       "      <th>32</th>\n",
       "      <td>Svätý Jur</td>\n",
       "      <td>5941</td>\n",
       "      <td>(48.2541879, 17.2127253)</td>\n",
       "    </tr>\n",
       "    <tr>\n",
       "      <th>34</th>\n",
       "      <td>Modra</td>\n",
       "      <td>9346</td>\n",
       "      <td>(48.9450527, 22.0425486)</td>\n",
       "    </tr>\n",
       "    <tr>\n",
       "      <th>35</th>\n",
       "      <td>Pezinok</td>\n",
       "      <td>24900</td>\n",
       "      <td>(48.2854539, 17.270194)</td>\n",
       "    </tr>\n",
       "  </tbody>\n",
       "</table>\n",
       "</div>"
      ],
      "text/plain": [
       "         City  Population               Coordinates\n",
       "17    Malacky       18935  (48.4362992, 17.0200447)\n",
       "21    Stupava       12595   (48.273044, 17.0329528)\n",
       "32  Svätý Jur        5941  (48.2541879, 17.2127253)\n",
       "34      Modra        9346  (48.9450527, 22.0425486)\n",
       "35    Pezinok       24900   (48.2854539, 17.270194)"
      ]
     },
     "execution_count": 24,
     "metadata": {},
     "output_type": "execute_result"
    }
   ],
   "source": [
    "df_cities_wo_Martinus[\"Coordinates\"] = df_cities_wo_Martinus[\"City\"].apply(\n",
    "    get_coordinates_for_city\n",
    ")\n",
    "\n",
    "df_cities_wo_Martinus.head()"
   ]
  },
  {
   "cell_type": "markdown",
   "metadata": {},
   "source": [
    "### Geokódovanie miest bez predajní Martinus\n",
    "-  Pridanie súradnic pre mestá bez predajní Martinus"
   ]
  },
  {
   "cell_type": "code",
   "execution_count": 25,
   "metadata": {},
   "outputs": [
    {
     "data": {
      "text/html": [
       "<div>\n",
       "<style scoped>\n",
       "    .dataframe tbody tr th:only-of-type {\n",
       "        vertical-align: middle;\n",
       "    }\n",
       "\n",
       "    .dataframe tbody tr th {\n",
       "        vertical-align: top;\n",
       "    }\n",
       "\n",
       "    .dataframe thead th {\n",
       "        text-align: right;\n",
       "    }\n",
       "</style>\n",
       "<table border=\"1\" class=\"dataframe\">\n",
       "  <thead>\n",
       "    <tr style=\"text-align: right;\">\n",
       "      <th></th>\n",
       "      <th>City</th>\n",
       "      <th>Population</th>\n",
       "      <th>Coordinates</th>\n",
       "      <th>Nearest_Martinus_km</th>\n",
       "    </tr>\n",
       "  </thead>\n",
       "  <tbody>\n",
       "    <tr>\n",
       "      <th>17</th>\n",
       "      <td>Malacky</td>\n",
       "      <td>18935</td>\n",
       "      <td>(48.4362992, 17.0200447)</td>\n",
       "      <td>31.15</td>\n",
       "    </tr>\n",
       "    <tr>\n",
       "      <th>21</th>\n",
       "      <td>Stupava</td>\n",
       "      <td>12595</td>\n",
       "      <td>(48.273044, 17.0329528)</td>\n",
       "      <td>13.07</td>\n",
       "    </tr>\n",
       "    <tr>\n",
       "      <th>32</th>\n",
       "      <td>Svätý Jur</td>\n",
       "      <td>5941</td>\n",
       "      <td>(48.2541879, 17.2127253)</td>\n",
       "      <td>13.47</td>\n",
       "    </tr>\n",
       "    <tr>\n",
       "      <th>34</th>\n",
       "      <td>Modra</td>\n",
       "      <td>9346</td>\n",
       "      <td>(48.9450527, 22.0425486)</td>\n",
       "      <td>9.69</td>\n",
       "    </tr>\n",
       "    <tr>\n",
       "      <th>35</th>\n",
       "      <td>Pezinok</td>\n",
       "      <td>24900</td>\n",
       "      <td>(48.2854539, 17.270194)</td>\n",
       "      <td>18.65</td>\n",
       "    </tr>\n",
       "  </tbody>\n",
       "</table>\n",
       "</div>"
      ],
      "text/plain": [
       "         City  Population               Coordinates  Nearest_Martinus_km\n",
       "17    Malacky       18935  (48.4362992, 17.0200447)                31.15\n",
       "21    Stupava       12595   (48.273044, 17.0329528)                13.07\n",
       "32  Svätý Jur        5941  (48.2541879, 17.2127253)                13.47\n",
       "34      Modra        9346  (48.9450527, 22.0425486)                 9.69\n",
       "35    Pezinok       24900   (48.2854539, 17.270194)                18.65"
      ]
     },
     "execution_count": 25,
     "metadata": {},
     "output_type": "execute_result"
    }
   ],
   "source": [
    "df_cities_wo_Martinus[\"Nearest_Martinus_km\"] = df_cities_wo_Martinus.apply(\n",
    "    lambda row: min(\n",
    "        haversine_distance(row[\"Coordinates\"], lib_row[\"Coordinates\"])\n",
    "        for _, lib_row in df_cities_w_Martinus.iterrows()\n",
    "    ),\n",
    "    axis=1,\n",
    ")\n",
    "\n",
    "df_cities_wo_Martinus[\"Nearest_Martinus_km\"] = df_cities_wo_Martinus[\n",
    "    \"Nearest_Martinus_km\"\n",
    "].round(2)\n",
    "\n",
    "df_cities_wo_Martinus.head()"
   ]
  },
  {
   "cell_type": "markdown",
   "metadata": {},
   "source": [
    "- Výpočet najbližšiej predajni pomocou GPS súradnic za využitia [Haversine-ovej rovnice](https://en.wikipedia.org/wiki/Haversine_formula)"
   ]
  },
  {
   "cell_type": "code",
   "execution_count": 26,
   "metadata": {},
   "outputs": [
    {
     "data": {
      "text/html": [
       "<div>\n",
       "<style scoped>\n",
       "    .dataframe tbody tr th:only-of-type {\n",
       "        vertical-align: middle;\n",
       "    }\n",
       "\n",
       "    .dataframe tbody tr th {\n",
       "        vertical-align: top;\n",
       "    }\n",
       "\n",
       "    .dataframe thead th {\n",
       "        text-align: right;\n",
       "    }\n",
       "</style>\n",
       "<table border=\"1\" class=\"dataframe\">\n",
       "  <thead>\n",
       "    <tr style=\"text-align: right;\">\n",
       "      <th></th>\n",
       "      <th>City</th>\n",
       "      <th>Population</th>\n",
       "      <th>Coordinates</th>\n",
       "      <th>Nearest_Martinus_km</th>\n",
       "    </tr>\n",
       "  </thead>\n",
       "  <tbody>\n",
       "    <tr>\n",
       "      <th>562</th>\n",
       "      <td>Trenčín</td>\n",
       "      <td>54740</td>\n",
       "      <td>(48.8922719, 18.0387465)</td>\n",
       "      <td>18.60</td>\n",
       "    </tr>\n",
       "    <tr>\n",
       "      <th>489</th>\n",
       "      <td>Prievidza</td>\n",
       "      <td>45017</td>\n",
       "      <td>(48.7718361, 18.6234916)</td>\n",
       "      <td>37.91</td>\n",
       "    </tr>\n",
       "    <tr>\n",
       "      <th>791</th>\n",
       "      <td>Nové Zámky</td>\n",
       "      <td>37791</td>\n",
       "      <td>(47.9861843, 18.1631415)</td>\n",
       "      <td>36.25</td>\n",
       "    </tr>\n",
       "    <tr>\n",
       "      <th>2584</th>\n",
       "      <td>Michalovce</td>\n",
       "      <td>36704</td>\n",
       "      <td>(48.7514383, 21.9211949)</td>\n",
       "      <td>20.07</td>\n",
       "    </tr>\n",
       "    <tr>\n",
       "      <th>2770</th>\n",
       "      <td>Spišská Nová Ves</td>\n",
       "      <td>35431</td>\n",
       "      <td>(48.9435344, 20.562964)</td>\n",
       "      <td>22.83</td>\n",
       "    </tr>\n",
       "  </tbody>\n",
       "</table>\n",
       "</div>"
      ],
      "text/plain": [
       "                  City  Population               Coordinates  \\\n",
       "562            Trenčín       54740  (48.8922719, 18.0387465)   \n",
       "489          Prievidza       45017  (48.7718361, 18.6234916)   \n",
       "791         Nové Zámky       37791  (47.9861843, 18.1631415)   \n",
       "2584        Michalovce       36704  (48.7514383, 21.9211949)   \n",
       "2770  Spišská Nová Ves       35431   (48.9435344, 20.562964)   \n",
       "\n",
       "      Nearest_Martinus_km  \n",
       "562                 18.60  \n",
       "489                 37.91  \n",
       "791                 36.25  \n",
       "2584                20.07  \n",
       "2770                22.83  "
      ]
     },
     "execution_count": 26,
     "metadata": {},
     "output_type": "execute_result"
    }
   ],
   "source": [
    "df_cities_wo_Martinus.sort_values(\"Population\", ascending=False).head()"
   ]
  },
  {
   "cell_type": "markdown",
   "metadata": {},
   "source": [
    "- Zobrazenie miest bez predajní Martinus, usporiadané podľa obyvateľstva (ako celok aj k najbližšej predajni Martinus)"
   ]
  },
  {
   "cell_type": "code",
   "execution_count": 27,
   "metadata": {},
   "outputs": [
    {
     "data": {
      "text/html": [
       "<div>\n",
       "<style scoped>\n",
       "    .dataframe tbody tr th:only-of-type {\n",
       "        vertical-align: middle;\n",
       "    }\n",
       "\n",
       "    .dataframe tbody tr th {\n",
       "        vertical-align: top;\n",
       "    }\n",
       "\n",
       "    .dataframe thead th {\n",
       "        text-align: right;\n",
       "    }\n",
       "</style>\n",
       "<table border=\"1\" class=\"dataframe\">\n",
       "  <thead>\n",
       "    <tr style=\"text-align: right;\">\n",
       "      <th></th>\n",
       "      <th>City</th>\n",
       "      <th>Population</th>\n",
       "      <th>Coordinates</th>\n",
       "      <th>Nearest_Martinus_km</th>\n",
       "    </tr>\n",
       "  </thead>\n",
       "  <tbody>\n",
       "    <tr>\n",
       "      <th>599</th>\n",
       "      <td>Komárno</td>\n",
       "      <td>32967</td>\n",
       "      <td>(47.7574079, 18.1298249)</td>\n",
       "      <td>61.36</td>\n",
       "    </tr>\n",
       "    <tr>\n",
       "      <th>80</th>\n",
       "      <td>Veľký Meder</td>\n",
       "      <td>8446</td>\n",
       "      <td>(47.8557806, 17.7693671)</td>\n",
       "      <td>56.05</td>\n",
       "    </tr>\n",
       "    <tr>\n",
       "      <th>609</th>\n",
       "      <td>Hurbanovo</td>\n",
       "      <td>7467</td>\n",
       "      <td>(47.8761227, 18.198313)</td>\n",
       "      <td>47.68</td>\n",
       "    </tr>\n",
       "    <tr>\n",
       "      <th>842</th>\n",
       "      <td>Štúrovo</td>\n",
       "      <td>9777</td>\n",
       "      <td>(47.7978002, 18.7158785)</td>\n",
       "      <td>46.97</td>\n",
       "    </tr>\n",
       "    <tr>\n",
       "      <th>615</th>\n",
       "      <td>Kolárovo</td>\n",
       "      <td>10572</td>\n",
       "      <td>(47.9182347, 17.9966591)</td>\n",
       "      <td>44.14</td>\n",
       "    </tr>\n",
       "  </tbody>\n",
       "</table>\n",
       "</div>"
      ],
      "text/plain": [
       "            City  Population               Coordinates  Nearest_Martinus_km\n",
       "599      Komárno       32967  (47.7574079, 18.1298249)                61.36\n",
       "80   Veľký Meder        8446  (47.8557806, 17.7693671)                56.05\n",
       "609    Hurbanovo        7467   (47.8761227, 18.198313)                47.68\n",
       "842      Štúrovo        9777  (47.7978002, 18.7158785)                46.97\n",
       "615     Kolárovo       10572  (47.9182347, 17.9966591)                44.14"
      ]
     },
     "execution_count": 27,
     "metadata": {},
     "output_type": "execute_result"
    }
   ],
   "source": [
    "df_cities_wo_Martinus.sort_values(\"Nearest_Martinus_km\", ascending=False).head()"
   ]
  },
  {
   "cell_type": "markdown",
   "metadata": {},
   "source": [
    "- Lepšie je však podľa mna zohľadniť vzdialenosť , Trenčín ma najbližiu predajňu len 18km ale z Komárna človek musí zájsť až 61km"
   ]
  },
  {
   "cell_type": "code",
   "execution_count": 28,
   "metadata": {},
   "outputs": [],
   "source": [
    "potential_shops: pd.DataFrame = df_cities_wo_Martinus.sort_values(\n",
    "    \"Nearest_Martinus_km\", ascending=True\n",
    ")[-5:].reset_index()"
   ]
  },
  {
   "cell_type": "markdown",
   "metadata": {},
   "source": [
    "- Zobratie 5 miest, ktoré su najďalej od predajne"
   ]
  },
  {
   "cell_type": "code",
   "execution_count": 29,
   "metadata": {},
   "outputs": [],
   "source": [
    "add_marker_to_map(potential_shops[\"Coordinates\"], \"green\", martinus_map)\n",
    "# martinus_map"
   ]
  },
  {
   "cell_type": "markdown",
   "metadata": {},
   "source": [
    "![Candidates](data/candidates.png)"
   ]
  },
  {
   "cell_type": "markdown",
   "metadata": {},
   "source": [
    "- Kandidáti sú na juhu Slovenska (`Komárno, Veľký Meder, Hurbanovo, Štúrovo, Kolárovo`) - zelené značky na mape\n",
    "- Predpokladáme, že chceme momentálne postaviť len jednu predajňu\n",
    "- Ak by sme ju dali do `Komárna`, kt. je najďalej a zároveň aj najväčie mesto, bolo by to nevýhodne pre zvyšné 4 mestá"
   ]
  },
  {
   "cell_type": "code",
   "execution_count": 30,
   "metadata": {},
   "outputs": [
    {
     "name": "stdout",
     "output_type": "stream",
     "text": [
      "(47.84106922, 18.16200852)\n"
     ]
    }
   ],
   "source": [
    "coordinates: List[Coordinates] = potential_shops[\"Coordinates\"].tolist()\n",
    "\n",
    "mean_coordinates: Coordinates = tuple(map(lambda x: sum(x) / len(x), zip(*coordinates)))\n",
    "\n",
    "print(mean_coordinates)"
   ]
  },
  {
   "cell_type": "markdown",
   "metadata": {},
   "source": [
    "- `Súradnice miest` spriemerujeme\n",
    "- Výsledok je vyznačený *čiernou* značkou"
   ]
  },
  {
   "cell_type": "code",
   "execution_count": 31,
   "metadata": {},
   "outputs": [],
   "source": [
    "add_marker_to_map([mean_coordinates], \"black\", martinus_map)\n",
    "# martinus_map"
   ]
  },
  {
   "cell_type": "markdown",
   "metadata": {},
   "source": [
    "![Average](data/GPS_average.png)"
   ]
  },
  {
   "cell_type": "code",
   "execution_count": 32,
   "metadata": {},
   "outputs": [
    {
     "name": "stdout",
     "output_type": "stream",
     "text": [
      "Hurbanovo\n"
     ]
    }
   ],
   "source": [
    "df_cities_wo_Martinus[\"Distance_to_Mean\"] = df_cities_wo_Martinus[\"Coordinates\"].apply(\n",
    "    lambda coord: haversine_distance(mean_coordinates, coord)\n",
    ")\n",
    "\n",
    "nearest_city: pd.Series = df_cities_wo_Martinus.loc[\n",
    "    df_cities_wo_Martinus[\"Distance_to_Mean\"].idxmin()\n",
    "]\n",
    "\n",
    "print(nearest_city[\"City\"])"
   ]
  },
  {
   "cell_type": "markdown",
   "metadata": {},
   "source": [
    "- Avšak výsledná priemerná lokácia nie je úplne ideálna a tak predajňu posunieme do najbližieho mesta k nej, t.j. `Hurbanovo`"
   ]
  },
  {
   "cell_type": "markdown",
   "metadata": {},
   "source": [
    "### Čo tak konkurencia?\n",
    "- Na mapu nanesieme modrými značkami aj predajne `Panta Rhei`\n",
    "- Podobný princíp scrape-ovania je použitý aj na stránku Panta Rhei"
   ]
  },
  {
   "cell_type": "code",
   "execution_count": 33,
   "metadata": {},
   "outputs": [],
   "source": [
    "panta_rhei_website: URL = \"https://www.pantarhei.sk/predajne/\"\n",
    "panta_rhei_shops_path: CSSSelector = \"#html-body > main > div.container.overflow-hidden > div.row.mt-2.mt-md-3.fz-90-p.gutter-25px-sm > div > address\"\n",
    "panta_rhei = BasicScraper(panta_rhei_website)\n",
    "panta_rhei_adresses: List[str] = panta_rhei.scrape(panta_rhei_shops_path)\n",
    "panta_rhei_adresses: List[str] = [shop.strip() for shop in panta_rhei_adresses]\n",
    "\n",
    "assert (\n",
    "    len(panta_rhei_adresses) == 62\n",
    "), \"Scraped number does not match real number of shops as of 7.1.2024\""
   ]
  },
  {
   "cell_type": "code",
   "execution_count": 34,
   "metadata": {},
   "outputs": [],
   "source": [
    "panta_rhei_adresses = [get_coordinates_for_city(shop) for shop in panta_rhei_adresses]"
   ]
  },
  {
   "cell_type": "code",
   "execution_count": 35,
   "metadata": {},
   "outputs": [],
   "source": [
    "all_map = folium.Map(location=[48, 20], zoom_start=8)\n",
    "\n",
    "hurbanovo: Coordinates = nearest_city[\"Coordinates\"]\n",
    "\n",
    "add_marker_to_map(df_cities_w_Martinus[\"Coordinates\"], \"red\", all_map)\n",
    "add_marker_to_map(panta_rhei_adresses, \"blue\", all_map)\n",
    "add_marker_to_map([hurbanovo], \"black\", all_map)\n",
    "# all_map"
   ]
  },
  {
   "cell_type": "markdown",
   "metadata": {},
   "source": [
    "<img src=\"data/map_w_panta_rhei.png\" alt=\"Map with all shops\" width=\"1800\"/>"
   ]
  },
  {
   "cell_type": "markdown",
   "metadata": {},
   "source": [
    "### Záver\n",
    "- `Hurbanovo` sa ukázalo ako najlepšia voľba\n",
    "- V meste sa nechádza konkurencia\n",
    "- Ostatné väčšie mestá sú pomerne blízko\n",
    "- `Prievidza a Malacky`, spomenuté na začiatku, by mohli byť tiež dobrými kandidátmi (keďže pri zvážení 10 miest namiesto 5, boli medzi nimi a výsledným kandidátom boli `Šurany`).\n",
    "- `Možnosti vylepšenia`: *HDP okresov*, *Zisk jednotlivých predajní*, *Vzdelanie okresov* , *Dostupnosť* , *Verejná doprava* a pod."
   ]
  }
 ],
 "metadata": {
  "kernelspec": {
   "display_name": ".venv",
   "language": "python",
   "name": "python3"
  },
  "language_info": {
   "codemirror_mode": {
    "name": "ipython",
    "version": 3
   },
   "file_extension": ".py",
   "mimetype": "text/x-python",
   "name": "python",
   "nbconvert_exporter": "python",
   "pygments_lexer": "ipython3",
   "version": "3.11.1"
  }
 },
 "nbformat": 4,
 "nbformat_minor": 2
}
