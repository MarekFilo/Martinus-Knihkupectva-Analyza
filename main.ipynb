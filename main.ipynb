{
 "cells": [
  {
   "cell_type": "code",
   "execution_count": 1,
   "metadata": {},
   "outputs": [],
   "source": [
    "from src.utils.coordinates_util import get_coordinates_for_city, haversine_distance\n",
    "from src.scrapers.scrapers import BasicScraper\n",
    "from src.types.types import Coordinates, URL, CSSSelector\n",
    "from typing import List\n",
    "\n",
    "\n",
    "import folium\n",
    "import pandas as pd"
   ]
  },
  {
   "cell_type": "code",
   "execution_count": 2,
   "metadata": {},
   "outputs": [],
   "source": [
    "def assert_gps_coordinates_equal(\n",
    "    coord1: Coordinates, coord2: Coordinates, tolerance: float = 1e-2\n",
    "):\n",
    "    assert (\n",
    "        abs(coord1.latitude - coord2.latitude) < tolerance\n",
    "    ), f\"Latitude difference exceeds tolerance: {coord1.latitude} vs {coord2.latitude}\"\n",
    "    assert (\n",
    "        abs(coord1.longitude - coord2.longitude) < tolerance\n",
    "    ), f\"Longitude difference exceeds tolerance: {coord1.longitude} vs {coord2.longitude}\"\n",
    "\n",
    "\n",
    "expected_coordinates: Coordinates = Coordinates(48.89452, 18.04436)\n",
    "actual_coordinates: Coordinates = get_coordinates_for_city(\"Trenčín\")\n",
    "\n",
    "assert_gps_coordinates_equal(actual_coordinates, expected_coordinates)"
   ]
  },
  {
   "cell_type": "code",
   "execution_count": 3,
   "metadata": {},
   "outputs": [
    {
     "data": {
      "text/html": [
       "<div>\n",
       "<style scoped>\n",
       "    .dataframe tbody tr th:only-of-type {\n",
       "        vertical-align: middle;\n",
       "    }\n",
       "\n",
       "    .dataframe tbody tr th {\n",
       "        vertical-align: top;\n",
       "    }\n",
       "\n",
       "    .dataframe thead th {\n",
       "        text-align: right;\n",
       "    }\n",
       "</style>\n",
       "<table border=\"1\" class=\"dataframe\">\n",
       "  <thead>\n",
       "    <tr style=\"text-align: right;\">\n",
       "      <th></th>\n",
       "      <th>Kód</th>\n",
       "      <th>Územná jednotka</th>\n",
       "      <th>Spolu</th>\n",
       "      <th>muži (abs.)</th>\n",
       "      <th>muži (%)</th>\n",
       "      <th>ženy (abs.)</th>\n",
       "      <th>ženy (%)</th>\n",
       "    </tr>\n",
       "  </thead>\n",
       "  <tbody>\n",
       "    <tr>\n",
       "      <th>0</th>\n",
       "      <td>SK0101528595</td>\n",
       "      <td>Bratislava - mestská časť Staré Mesto</td>\n",
       "      <td>46080</td>\n",
       "      <td>22210</td>\n",
       "      <td>48.20</td>\n",
       "      <td>23870</td>\n",
       "      <td>51.80</td>\n",
       "    </tr>\n",
       "    <tr>\n",
       "      <th>1</th>\n",
       "      <td>SK0102529311</td>\n",
       "      <td>Bratislava - mestská časť Podunajské Biskupice</td>\n",
       "      <td>23464</td>\n",
       "      <td>11193</td>\n",
       "      <td>47.70</td>\n",
       "      <td>12271</td>\n",
       "      <td>52.30</td>\n",
       "    </tr>\n",
       "    <tr>\n",
       "      <th>2</th>\n",
       "      <td>SK0102529320</td>\n",
       "      <td>Bratislava - mestská časť Ružinov</td>\n",
       "      <td>81004</td>\n",
       "      <td>37575</td>\n",
       "      <td>46.39</td>\n",
       "      <td>43429</td>\n",
       "      <td>53.61</td>\n",
       "    </tr>\n",
       "    <tr>\n",
       "      <th>3</th>\n",
       "      <td>SK0102529338</td>\n",
       "      <td>Bratislava - mestská časť Vrakuňa</td>\n",
       "      <td>20711</td>\n",
       "      <td>9945</td>\n",
       "      <td>48.02</td>\n",
       "      <td>10766</td>\n",
       "      <td>51.98</td>\n",
       "    </tr>\n",
       "    <tr>\n",
       "      <th>4</th>\n",
       "      <td>SK0103529346</td>\n",
       "      <td>Bratislava - mestská časť Nové Mesto</td>\n",
       "      <td>44458</td>\n",
       "      <td>20981</td>\n",
       "      <td>47.19</td>\n",
       "      <td>23477</td>\n",
       "      <td>52.81</td>\n",
       "    </tr>\n",
       "    <tr>\n",
       "      <th>5</th>\n",
       "      <td>SK0103529354</td>\n",
       "      <td>Bratislava - mestská časť Rača</td>\n",
       "      <td>25733</td>\n",
       "      <td>12717</td>\n",
       "      <td>49.42</td>\n",
       "      <td>13016</td>\n",
       "      <td>50.58</td>\n",
       "    </tr>\n",
       "    <tr>\n",
       "      <th>6</th>\n",
       "      <td>SK0103529362</td>\n",
       "      <td>Bratislava - mestská časť Vajnory</td>\n",
       "      <td>6079</td>\n",
       "      <td>3056</td>\n",
       "      <td>50.27</td>\n",
       "      <td>3023</td>\n",
       "      <td>49.73</td>\n",
       "    </tr>\n",
       "  </tbody>\n",
       "</table>\n",
       "</div>"
      ],
      "text/plain": [
       "            Kód                                 Územná jednotka  Spolu  \\\n",
       "0  SK0101528595           Bratislava - mestská časť Staré Mesto  46080   \n",
       "1  SK0102529311  Bratislava - mestská časť Podunajské Biskupice  23464   \n",
       "2  SK0102529320               Bratislava - mestská časť Ružinov  81004   \n",
       "3  SK0102529338               Bratislava - mestská časť Vrakuňa  20711   \n",
       "4  SK0103529346            Bratislava - mestská časť Nové Mesto  44458   \n",
       "5  SK0103529354                  Bratislava - mestská časť Rača  25733   \n",
       "6  SK0103529362               Bratislava - mestská časť Vajnory   6079   \n",
       "\n",
       "   muži (abs.)  muži (%)  ženy (abs.)  ženy (%)  \n",
       "0        22210     48.20        23870     51.80  \n",
       "1        11193     47.70        12271     52.30  \n",
       "2        37575     46.39        43429     53.61  \n",
       "3         9945     48.02        10766     51.98  \n",
       "4        20981     47.19        23477     52.81  \n",
       "5        12717     49.42        13016     50.58  \n",
       "6         3056     50.27         3023     49.73  "
      ]
     },
     "execution_count": 3,
     "metadata": {},
     "output_type": "execute_result"
    }
   ],
   "source": [
    "df: pd.DataFrame = pd.read_csv(\"data/obyvatelia_na_obec.csv\")\n",
    "\n",
    "assert df.shape[0] == 2927, \"Number of municipalities doesn't match\"\n",
    "df.head(7)"
   ]
  },
  {
   "cell_type": "code",
   "execution_count": 4,
   "metadata": {},
   "outputs": [],
   "source": [
    "selected_columns = [\"Územná jednotka\", \"Spolu\"]\n",
    "df = df[selected_columns]\n",
    "df = df.rename(columns={\"Územná jednotka\": \"City\", \"Spolu\": \"Population\"})"
   ]
  },
  {
   "cell_type": "code",
   "execution_count": 5,
   "metadata": {},
   "outputs": [
    {
     "data": {
      "text/html": [
       "<div>\n",
       "<style scoped>\n",
       "    .dataframe tbody tr th:only-of-type {\n",
       "        vertical-align: middle;\n",
       "    }\n",
       "\n",
       "    .dataframe tbody tr th {\n",
       "        vertical-align: top;\n",
       "    }\n",
       "\n",
       "    .dataframe thead th {\n",
       "        text-align: right;\n",
       "    }\n",
       "</style>\n",
       "<table border=\"1\" class=\"dataframe\">\n",
       "  <thead>\n",
       "    <tr style=\"text-align: right;\">\n",
       "      <th></th>\n",
       "      <th>City</th>\n",
       "      <th>Population</th>\n",
       "    </tr>\n",
       "  </thead>\n",
       "  <tbody>\n",
       "    <tr>\n",
       "      <th>0</th>\n",
       "      <td>Bratislava - mestská časť Staré Mesto</td>\n",
       "      <td>46080</td>\n",
       "    </tr>\n",
       "    <tr>\n",
       "      <th>1</th>\n",
       "      <td>Bratislava - mestská časť Podunajské Biskupice</td>\n",
       "      <td>23464</td>\n",
       "    </tr>\n",
       "    <tr>\n",
       "      <th>2</th>\n",
       "      <td>Bratislava - mestská časť Ružinov</td>\n",
       "      <td>81004</td>\n",
       "    </tr>\n",
       "    <tr>\n",
       "      <th>3</th>\n",
       "      <td>Bratislava - mestská časť Vrakuňa</td>\n",
       "      <td>20711</td>\n",
       "    </tr>\n",
       "    <tr>\n",
       "      <th>4</th>\n",
       "      <td>Bratislava - mestská časť Nové Mesto</td>\n",
       "      <td>44458</td>\n",
       "    </tr>\n",
       "    <tr>\n",
       "      <th>5</th>\n",
       "      <td>Bratislava - mestská časť Rača</td>\n",
       "      <td>25733</td>\n",
       "    </tr>\n",
       "    <tr>\n",
       "      <th>6</th>\n",
       "      <td>Bratislava - mestská časť Vajnory</td>\n",
       "      <td>6079</td>\n",
       "    </tr>\n",
       "  </tbody>\n",
       "</table>\n",
       "</div>"
      ],
      "text/plain": [
       "                                             City  Population\n",
       "0           Bratislava - mestská časť Staré Mesto       46080\n",
       "1  Bratislava - mestská časť Podunajské Biskupice       23464\n",
       "2               Bratislava - mestská časť Ružinov       81004\n",
       "3               Bratislava - mestská časť Vrakuňa       20711\n",
       "4            Bratislava - mestská časť Nové Mesto       44458\n",
       "5                  Bratislava - mestská časť Rača       25733\n",
       "6               Bratislava - mestská časť Vajnory        6079"
      ]
     },
     "execution_count": 5,
     "metadata": {},
     "output_type": "execute_result"
    }
   ],
   "source": [
    "df.head(7)"
   ]
  },
  {
   "cell_type": "code",
   "execution_count": 6,
   "metadata": {},
   "outputs": [],
   "source": [
    "assert df.isna().sum().sum() == 0, \"data contains null values\""
   ]
  },
  {
   "cell_type": "code",
   "execution_count": 7,
   "metadata": {},
   "outputs": [
    {
     "data": {
      "text/html": [
       "<div>\n",
       "<style scoped>\n",
       "    .dataframe tbody tr th:only-of-type {\n",
       "        vertical-align: middle;\n",
       "    }\n",
       "\n",
       "    .dataframe tbody tr th {\n",
       "        vertical-align: top;\n",
       "    }\n",
       "\n",
       "    .dataframe thead th {\n",
       "        text-align: right;\n",
       "    }\n",
       "</style>\n",
       "<table border=\"1\" class=\"dataframe\">\n",
       "  <thead>\n",
       "    <tr style=\"text-align: right;\">\n",
       "      <th></th>\n",
       "      <th>City</th>\n",
       "      <th>Population</th>\n",
       "    </tr>\n",
       "  </thead>\n",
       "  <tbody>\n",
       "    <tr>\n",
       "      <th>0</th>\n",
       "      <td>Bratislava</td>\n",
       "      <td>475503</td>\n",
       "    </tr>\n",
       "    <tr>\n",
       "      <th>1</th>\n",
       "      <td>Košice</td>\n",
       "      <td>229040</td>\n",
       "    </tr>\n",
       "  </tbody>\n",
       "</table>\n",
       "</div>"
      ],
      "text/plain": [
       "         City  Population\n",
       "0  Bratislava      475503\n",
       "1      Košice      229040"
      ]
     },
     "execution_count": 7,
     "metadata": {},
     "output_type": "execute_result"
    }
   ],
   "source": [
    "bratislava_population = df[df[\"City\"].str.startswith(\"Bratislava\")][\"Population\"].sum()\n",
    "kosice_population = df[df[\"City\"].str.startswith(\"Košice\")][\"Population\"].sum()\n",
    "\n",
    "df_grouped = pd.DataFrame(\n",
    "    {\n",
    "        \"City\": [\"Bratislava\", \"Košice\"],\n",
    "        \"Population\": [bratislava_population, kosice_population],\n",
    "    }\n",
    ")\n",
    "\n",
    "df_grouped"
   ]
  },
  {
   "cell_type": "code",
   "execution_count": 8,
   "metadata": {},
   "outputs": [
    {
     "data": {
      "text/html": [
       "<div>\n",
       "<style scoped>\n",
       "    .dataframe tbody tr th:only-of-type {\n",
       "        vertical-align: middle;\n",
       "    }\n",
       "\n",
       "    .dataframe tbody tr th {\n",
       "        vertical-align: top;\n",
       "    }\n",
       "\n",
       "    .dataframe thead th {\n",
       "        text-align: right;\n",
       "    }\n",
       "</style>\n",
       "<table border=\"1\" class=\"dataframe\">\n",
       "  <thead>\n",
       "    <tr style=\"text-align: right;\">\n",
       "      <th></th>\n",
       "      <th>City</th>\n",
       "      <th>Population</th>\n",
       "    </tr>\n",
       "  </thead>\n",
       "  <tbody>\n",
       "    <tr>\n",
       "      <th>2888</th>\n",
       "      <td>Bratislava</td>\n",
       "      <td>475503</td>\n",
       "    </tr>\n",
       "    <tr>\n",
       "      <th>2889</th>\n",
       "      <td>Košice</td>\n",
       "      <td>229040</td>\n",
       "    </tr>\n",
       "    <tr>\n",
       "      <th>2060</th>\n",
       "      <td>Prešov</td>\n",
       "      <td>84824</td>\n",
       "    </tr>\n",
       "    <tr>\n",
       "      <th>1215</th>\n",
       "      <td>Žilina</td>\n",
       "      <td>82656</td>\n",
       "    </tr>\n",
       "    <tr>\n",
       "      <th>729</th>\n",
       "      <td>Nitra</td>\n",
       "      <td>78489</td>\n",
       "    </tr>\n",
       "  </tbody>\n",
       "</table>\n",
       "</div>"
      ],
      "text/plain": [
       "            City  Population\n",
       "2888  Bratislava      475503\n",
       "2889      Košice      229040\n",
       "2060      Prešov       84824\n",
       "1215      Žilina       82656\n",
       "729        Nitra       78489"
      ]
     },
     "execution_count": 8,
     "metadata": {},
     "output_type": "execute_result"
    }
   ],
   "source": [
    "df_dummy = df[\n",
    "    ~df[\"City\"].str.startswith(\"Bratislava\") & ~df[\"City\"].str.startswith(\"Košice\")\n",
    "]\n",
    "\n",
    "df_cities = pd.concat([df_dummy, df_grouped], ignore_index=True)\n",
    "\n",
    "df_cities.sort_values(\"Population\", ascending=False).head()"
   ]
  },
  {
   "cell_type": "code",
   "execution_count": 9,
   "metadata": {},
   "outputs": [],
   "source": [
    "martinus_website: URL = \"https://www.martinus.sk/knihkupectva\"\n",
    "\n",
    "martinus_cities_path: CSSSelector = \"div.card__content.mt-none h3\"\n",
    "martinus_streets_path: CSSSelector = \"div.card__content.mt-none p:first-of-type\"\n",
    "\n",
    "martinus = BasicScraper(martinus_website)\n",
    "\n",
    "martinus_cities: List[str] = martinus.scrape(martinus_cities_path)\n",
    "\n",
    "martinus_cities_clean: List[str] = [\n",
    "    city.split(\"-\")[0].strip() if \"-\" in city else city.split(\"(\")[0].strip()\n",
    "    for city in martinus_cities\n",
    "]\n",
    "\n",
    "martinus_streets: List[str] = martinus.scrape(martinus_streets_path)\n",
    "\n",
    "martinus_streets_clean: List[str] = [\n",
    "    street.split(\",\")[1].strip() if \",\" in street else street.strip()\n",
    "    for street in martinus_streets\n",
    "]\n",
    "\n",
    "assert len(martinus_cities_clean) == len(\n",
    "    martinus_streets_clean\n",
    "), \"Number of streets does not match number of cities\"\n",
    "\n",
    "assert (\n",
    "    len(martinus_streets_clean) == 31\n",
    "), \"Scraped number of shops does not match the real number as of 7.1.2024\""
   ]
  },
  {
   "cell_type": "code",
   "execution_count": 10,
   "metadata": {},
   "outputs": [
    {
     "name": "stdout",
     "output_type": "stream",
     "text": [
      "('Bratislava', 'Obchodná 26')\n",
      "('Bratislava', 'Staré Grunty 24')\n",
      "('Bratislava', 'Autobusová stanica Mlynské Nivy')\n",
      "('Banská Bystrica', 'Ul. 29 augusta 37')\n",
      "('Lučenec', 'Námestie republiky 5994/32')\n",
      "('Zvolen', 'OC Klokan - Obchodná 10325/21')\n",
      "('Banská Štiavnica', 'Radničné námestie 19')\n",
      "('Revúca', 'Muránska ulica 1337/16')\n",
      "('Rimavská Sobota', 'Francisciho 2')\n",
      "('Košice', 'Toryská 5')\n",
      "('Košice', 'Hlavná 111')\n",
      "('Trebišov', 'M. R. Štefánika 2329')\n",
      "('Levice', 'Ľ. Štúra 1A')\n",
      "('Nitra', 'Akademická 1/A')\n",
      "('Nitra', 'Napervillská 4837/5')\n",
      "('Poprad', 'Námestie svätého Egídia 3290/124')\n",
      "('Prešov', 'Námestie legionárov 1')\n",
      "('Humenné', 'Nám. slobody 62')\n",
      "('Kežmarok', 'Hviezdoslavova 10')\n",
      "('Sabinov', 'Námestie slobody 32')\n",
      "('Svidník', 'Sovietskych hrdinov 165/62')\n",
      "('Považská Bystrica', 'Centrum 8')\n",
      "('Ilava', 'Moyzesova 1871/123')\n",
      "('Myjava', 'M.R.Štefánika 929')\n",
      "('Nové Mesto nad Váhom', 'Weisseho 15/2615')\n",
      "('Trnava', 'Dolné Bašty 8833/14')\n",
      "('Liptovský Mikuláš', 'Kamenné pole 4449/3')\n",
      "('Martin', 'Námestie SNP 11376/2')\n",
      "('Žilina', 'Námestie A. Hlinku 7/B')\n",
      "('Dolný Kubín', 'Radlinského 30')\n",
      "('Turzovka', 'Stred 157- Srdce Turzovky')\n"
     ]
    }
   ],
   "source": [
    "martinus_adresses = [\n",
    "    (city, street)\n",
    "    for street, city in zip(martinus_streets_clean, martinus_cities_clean)\n",
    "]\n",
    "\n",
    "for adress in martinus_adresses:\n",
    "    print(adress)"
   ]
  },
  {
   "cell_type": "code",
   "execution_count": 11,
   "metadata": {},
   "outputs": [
    {
     "data": {
      "text/html": [
       "<div>\n",
       "<style scoped>\n",
       "    .dataframe tbody tr th:only-of-type {\n",
       "        vertical-align: middle;\n",
       "    }\n",
       "\n",
       "    .dataframe tbody tr th {\n",
       "        vertical-align: top;\n",
       "    }\n",
       "\n",
       "    .dataframe thead th {\n",
       "        text-align: right;\n",
       "    }\n",
       "</style>\n",
       "<table border=\"1\" class=\"dataframe\">\n",
       "  <thead>\n",
       "    <tr style=\"text-align: right;\">\n",
       "      <th></th>\n",
       "      <th>City</th>\n",
       "      <th>Street</th>\n",
       "    </tr>\n",
       "  </thead>\n",
       "  <tbody>\n",
       "    <tr>\n",
       "      <th>0</th>\n",
       "      <td>Bratislava</td>\n",
       "      <td>Obchodná 26</td>\n",
       "    </tr>\n",
       "    <tr>\n",
       "      <th>1</th>\n",
       "      <td>Bratislava</td>\n",
       "      <td>Staré Grunty 24</td>\n",
       "    </tr>\n",
       "    <tr>\n",
       "      <th>2</th>\n",
       "      <td>Bratislava</td>\n",
       "      <td>Autobusová stanica Mlynské Nivy</td>\n",
       "    </tr>\n",
       "    <tr>\n",
       "      <th>3</th>\n",
       "      <td>Banská Bystrica</td>\n",
       "      <td>Ul. 29 augusta 37</td>\n",
       "    </tr>\n",
       "    <tr>\n",
       "      <th>4</th>\n",
       "      <td>Lučenec</td>\n",
       "      <td>Námestie republiky 5994/32</td>\n",
       "    </tr>\n",
       "  </tbody>\n",
       "</table>\n",
       "</div>"
      ],
      "text/plain": [
       "              City                           Street\n",
       "0       Bratislava                      Obchodná 26\n",
       "1       Bratislava                  Staré Grunty 24\n",
       "2       Bratislava  Autobusová stanica Mlynské Nivy\n",
       "3  Banská Bystrica                Ul. 29 augusta 37\n",
       "4          Lučenec       Námestie republiky 5994/32"
      ]
     },
     "execution_count": 11,
     "metadata": {},
     "output_type": "execute_result"
    }
   ],
   "source": [
    "df_cities_w_Martinus = pd.DataFrame(martinus_adresses)\n",
    "\n",
    "df_cities_w_Martinus.columns = [\"City\", \"Street\"]\n",
    "df_cities_w_Martinus.head()"
   ]
  },
  {
   "cell_type": "code",
   "execution_count": 12,
   "metadata": {},
   "outputs": [],
   "source": [
    "def get_coordinates_for_dataframe(df):\n",
    "    def get_coordinates_for_address(row):\n",
    "        address = f\"{row['Street']} {row['City']}\"\n",
    "        return get_coordinates_for_city(address)\n",
    "\n",
    "    df[\"Coordinates\"] = df.apply(get_coordinates_for_address, axis=1)\n",
    "    missing_coordinates = df[\"Coordinates\"].isna().sum().sum()\n",
    "\n",
    "    return df, missing_coordinates"
   ]
  },
  {
   "cell_type": "code",
   "execution_count": 13,
   "metadata": {},
   "outputs": [
    {
     "name": "stdout",
     "output_type": "stream",
     "text": [
      "Coordinates not found for Ul. 29 augusta 37 Banská Bystrica\n",
      "Coordinates not found for OC Klokan - Obchodná 10325/21 Zvolen\n",
      "Coordinates not found for Muránska ulica 1337/16 Revúca\n",
      "Coordinates not found for Stred 157- Srdce Turzovky Turzovka\n",
      "Number of missing coordinates: 4\n"
     ]
    },
    {
     "data": {
      "text/html": [
       "<div>\n",
       "<style scoped>\n",
       "    .dataframe tbody tr th:only-of-type {\n",
       "        vertical-align: middle;\n",
       "    }\n",
       "\n",
       "    .dataframe tbody tr th {\n",
       "        vertical-align: top;\n",
       "    }\n",
       "\n",
       "    .dataframe thead th {\n",
       "        text-align: right;\n",
       "    }\n",
       "</style>\n",
       "<table border=\"1\" class=\"dataframe\">\n",
       "  <thead>\n",
       "    <tr style=\"text-align: right;\">\n",
       "      <th></th>\n",
       "      <th>City</th>\n",
       "      <th>Street</th>\n",
       "      <th>Coordinates</th>\n",
       "    </tr>\n",
       "  </thead>\n",
       "  <tbody>\n",
       "    <tr>\n",
       "      <th>0</th>\n",
       "      <td>Bratislava</td>\n",
       "      <td>Obchodná 26</td>\n",
       "      <td>(48.14718, 17.11001)</td>\n",
       "    </tr>\n",
       "    <tr>\n",
       "      <th>1</th>\n",
       "      <td>Bratislava</td>\n",
       "      <td>Staré Grunty 24</td>\n",
       "      <td>(48.1581106, 17.069674)</td>\n",
       "    </tr>\n",
       "    <tr>\n",
       "      <th>2</th>\n",
       "      <td>Bratislava</td>\n",
       "      <td>Autobusová stanica Mlynské Nivy</td>\n",
       "      <td>(48.1468327, 17.128482)</td>\n",
       "    </tr>\n",
       "    <tr>\n",
       "      <th>3</th>\n",
       "      <td>Banská Bystrica</td>\n",
       "      <td>Ul. 29 augusta 37</td>\n",
       "      <td>None</td>\n",
       "    </tr>\n",
       "    <tr>\n",
       "      <th>4</th>\n",
       "      <td>Lučenec</td>\n",
       "      <td>Námestie republiky 5994/32</td>\n",
       "      <td>(48.3307838, 19.6611366)</td>\n",
       "    </tr>\n",
       "  </tbody>\n",
       "</table>\n",
       "</div>"
      ],
      "text/plain": [
       "              City                           Street               Coordinates\n",
       "0       Bratislava                      Obchodná 26      (48.14718, 17.11001)\n",
       "1       Bratislava                  Staré Grunty 24   (48.1581106, 17.069674)\n",
       "2       Bratislava  Autobusová stanica Mlynské Nivy   (48.1468327, 17.128482)\n",
       "3  Banská Bystrica                Ul. 29 augusta 37                      None\n",
       "4          Lučenec       Námestie republiky 5994/32  (48.3307838, 19.6611366)"
      ]
     },
     "execution_count": 13,
     "metadata": {},
     "output_type": "execute_result"
    }
   ],
   "source": [
    "df_cities_w_Martinus, missing_coordinates = get_coordinates_for_dataframe(\n",
    "    df_cities_w_Martinus\n",
    ")\n",
    "\n",
    "print(f\"Number of missing coordinates: {missing_coordinates}\")\n",
    "\n",
    "df_cities_w_Martinus.head()"
   ]
  },
  {
   "cell_type": "code",
   "execution_count": 14,
   "metadata": {},
   "outputs": [],
   "source": [
    "df_cities_w_Martinus[\"Street\"] = df_cities_w_Martinus[\"Street\"].str.replace(\n",
    "    r\"\\bUl\\.\\s\", \"\", regex=True\n",
    ")\n",
    "df_cities_w_Martinus[\"Street\"] = df_cities_w_Martinus[\"Street\"].str.replace(\n",
    "    r\"\\bOC\\sKlokan\\s-\\s\", \"\", regex=True\n",
    ")\n",
    "df_cities_w_Martinus[\"Street\"] = df_cities_w_Martinus[\"Street\"].str.replace(\n",
    "    r\"\\bulica\\b\", \"\", regex=True\n",
    ")\n",
    "df_cities_w_Martinus[\"Street\"] = df_cities_w_Martinus[\"Street\"].str.replace(\n",
    "    r\"-\\sSrdce Turzovky\", \"\", regex=True\n",
    ")"
   ]
  },
  {
   "cell_type": "code",
   "execution_count": 15,
   "metadata": {},
   "outputs": [
    {
     "name": "stdout",
     "output_type": "stream",
     "text": [
      "Number of missing coordinates: 0\n"
     ]
    },
    {
     "data": {
      "text/html": [
       "<div>\n",
       "<style scoped>\n",
       "    .dataframe tbody tr th:only-of-type {\n",
       "        vertical-align: middle;\n",
       "    }\n",
       "\n",
       "    .dataframe tbody tr th {\n",
       "        vertical-align: top;\n",
       "    }\n",
       "\n",
       "    .dataframe thead th {\n",
       "        text-align: right;\n",
       "    }\n",
       "</style>\n",
       "<table border=\"1\" class=\"dataframe\">\n",
       "  <thead>\n",
       "    <tr style=\"text-align: right;\">\n",
       "      <th></th>\n",
       "      <th>City</th>\n",
       "      <th>Street</th>\n",
       "      <th>Coordinates</th>\n",
       "    </tr>\n",
       "  </thead>\n",
       "  <tbody>\n",
       "    <tr>\n",
       "      <th>0</th>\n",
       "      <td>Bratislava</td>\n",
       "      <td>Obchodná 26</td>\n",
       "      <td>(48.14718, 17.11001)</td>\n",
       "    </tr>\n",
       "    <tr>\n",
       "      <th>1</th>\n",
       "      <td>Bratislava</td>\n",
       "      <td>Staré Grunty 24</td>\n",
       "      <td>(48.1581106, 17.069674)</td>\n",
       "    </tr>\n",
       "    <tr>\n",
       "      <th>2</th>\n",
       "      <td>Bratislava</td>\n",
       "      <td>Autobusová stanica Mlynské Nivy</td>\n",
       "      <td>(48.1468327, 17.128482)</td>\n",
       "    </tr>\n",
       "    <tr>\n",
       "      <th>3</th>\n",
       "      <td>Banská Bystrica</td>\n",
       "      <td>29 augusta 37</td>\n",
       "      <td>(48.7380316, 19.1619753)</td>\n",
       "    </tr>\n",
       "    <tr>\n",
       "      <th>4</th>\n",
       "      <td>Lučenec</td>\n",
       "      <td>Námestie republiky 5994/32</td>\n",
       "      <td>(48.3307838, 19.6611366)</td>\n",
       "    </tr>\n",
       "  </tbody>\n",
       "</table>\n",
       "</div>"
      ],
      "text/plain": [
       "              City                           Street               Coordinates\n",
       "0       Bratislava                      Obchodná 26      (48.14718, 17.11001)\n",
       "1       Bratislava                  Staré Grunty 24   (48.1581106, 17.069674)\n",
       "2       Bratislava  Autobusová stanica Mlynské Nivy   (48.1468327, 17.128482)\n",
       "3  Banská Bystrica                    29 augusta 37  (48.7380316, 19.1619753)\n",
       "4          Lučenec       Námestie republiky 5994/32  (48.3307838, 19.6611366)"
      ]
     },
     "execution_count": 15,
     "metadata": {},
     "output_type": "execute_result"
    }
   ],
   "source": [
    "df_cities_w_Martinus, missing_coordinates = get_coordinates_for_dataframe(\n",
    "    df_cities_w_Martinus\n",
    ")\n",
    "\n",
    "print(f\"Number of missing coordinates: {missing_coordinates}\")\n",
    "\n",
    "df_cities_w_Martinus.head()"
   ]
  },
  {
   "cell_type": "code",
   "execution_count": 16,
   "metadata": {},
   "outputs": [],
   "source": [
    "def add_marker_to_map(coordinates, color, map_object):\n",
    "    try:\n",
    "        if isinstance(coordinates, tuple):\n",
    "            lat, lon = coordinates[0], coordinates[1]\n",
    "        elif isinstance(coordinates, float):\n",
    "            lat, lon = coordinates, color\n",
    "        else:\n",
    "            raise ValueError(\"Unsupported coordinates type. Marker not added.\")\n",
    "\n",
    "        markers = folium.Marker(\n",
    "            location=[lat, lon],\n",
    "            icon=folium.Icon(color=color),\n",
    "        )\n",
    "        map_object.add_child(markers)\n",
    "    except Exception as e:\n",
    "        raise ValueError(f\"Error adding marker: {e}\")"
   ]
  },
  {
   "cell_type": "code",
   "execution_count": 17,
   "metadata": {},
   "outputs": [
    {
     "ename": "ValueError",
     "evalue": "Error adding marker: Unsupported coordinates type. Marker not added.",
     "output_type": "error",
     "traceback": [
      "\u001b[1;31m---------------------------------------------------------------------------\u001b[0m",
      "\u001b[1;31mValueError\u001b[0m                                Traceback (most recent call last)",
      "Cell \u001b[1;32mIn[16], line 8\u001b[0m, in \u001b[0;36madd_marker_to_map\u001b[1;34m(coordinates, color, map_object)\u001b[0m\n\u001b[0;32m      7\u001b[0m \u001b[38;5;28;01melse\u001b[39;00m:\n\u001b[1;32m----> 8\u001b[0m     \u001b[38;5;28;01mraise\u001b[39;00m \u001b[38;5;167;01mValueError\u001b[39;00m(\u001b[38;5;124m\"\u001b[39m\u001b[38;5;124mUnsupported coordinates type. Marker not added.\u001b[39m\u001b[38;5;124m\"\u001b[39m)\n\u001b[0;32m     10\u001b[0m markers \u001b[38;5;241m=\u001b[39m folium\u001b[38;5;241m.\u001b[39mMarker(\n\u001b[0;32m     11\u001b[0m     location\u001b[38;5;241m=\u001b[39m[lat, lon],\n\u001b[0;32m     12\u001b[0m     icon\u001b[38;5;241m=\u001b[39mfolium\u001b[38;5;241m.\u001b[39mIcon(color\u001b[38;5;241m=\u001b[39mcolor),\n\u001b[0;32m     13\u001b[0m )\n",
      "\u001b[1;31mValueError\u001b[0m: Unsupported coordinates type. Marker not added.",
      "\nDuring handling of the above exception, another exception occurred:\n",
      "\u001b[1;31mValueError\u001b[0m                                Traceback (most recent call last)",
      "Cell \u001b[1;32mIn[17], line 3\u001b[0m\n\u001b[0;32m      1\u001b[0m map_slovakia \u001b[38;5;241m=\u001b[39m folium\u001b[38;5;241m.\u001b[39mMap(location\u001b[38;5;241m=\u001b[39m[\u001b[38;5;241m48\u001b[39m, \u001b[38;5;241m20\u001b[39m], zoom_start\u001b[38;5;241m=\u001b[39m\u001b[38;5;241m8\u001b[39m)\n\u001b[1;32m----> 3\u001b[0m \u001b[43madd_marker_to_map\u001b[49m\u001b[43m(\u001b[49m\u001b[43mdf_cities_w_Martinus\u001b[49m\u001b[43m[\u001b[49m\u001b[38;5;124;43m\"\u001b[39;49m\u001b[38;5;124;43mCoordinates\u001b[39;49m\u001b[38;5;124;43m\"\u001b[39;49m\u001b[43m]\u001b[49m\u001b[43m,\u001b[49m\u001b[43m \u001b[49m\u001b[38;5;124;43m\"\u001b[39;49m\u001b[38;5;124;43mred\u001b[39;49m\u001b[38;5;124;43m\"\u001b[39;49m\u001b[43m,\u001b[49m\u001b[43m \u001b[49m\u001b[43mmap_slovakia\u001b[49m\u001b[43m)\u001b[49m\n\u001b[0;32m      5\u001b[0m \u001b[38;5;66;03m# map_slovakia\u001b[39;00m\n",
      "Cell \u001b[1;32mIn[16], line 16\u001b[0m, in \u001b[0;36madd_marker_to_map\u001b[1;34m(coordinates, color, map_object)\u001b[0m\n\u001b[0;32m     14\u001b[0m     map_object\u001b[38;5;241m.\u001b[39madd_child(markers)\n\u001b[0;32m     15\u001b[0m \u001b[38;5;28;01mexcept\u001b[39;00m \u001b[38;5;167;01mException\u001b[39;00m \u001b[38;5;28;01mas\u001b[39;00m e:\n\u001b[1;32m---> 16\u001b[0m     \u001b[38;5;28;01mraise\u001b[39;00m \u001b[38;5;167;01mValueError\u001b[39;00m(\u001b[38;5;124mf\u001b[39m\u001b[38;5;124m\"\u001b[39m\u001b[38;5;124mError adding marker: \u001b[39m\u001b[38;5;132;01m{\u001b[39;00me\u001b[38;5;132;01m}\u001b[39;00m\u001b[38;5;124m\"\u001b[39m)\n",
      "\u001b[1;31mValueError\u001b[0m: Error adding marker: Unsupported coordinates type. Marker not added."
     ]
    }
   ],
   "source": [
    "map_slovakia = folium.Map(location=[48, 20], zoom_start=8)\n",
    "\n",
    "add_marker_to_map(df_cities_w_Martinus[\"Coordinates\"], \"red\", map_slovakia)\n",
    "\n",
    "# map_slovakia"
   ]
  },
  {
   "cell_type": "markdown",
   "metadata": {},
   "source": [
    "![Slovakia Map](data/martinus.png)"
   ]
  },
  {
   "cell_type": "code",
   "execution_count": null,
   "metadata": {},
   "outputs": [],
   "source": [
    "df_cities_w_Martinus = pd.merge(df_cities_w_Martinus, df_cities, on=\"City\", how=\"left\")\n",
    "\n",
    "df_cities_w_Martinus.head()"
   ]
  },
  {
   "cell_type": "code",
   "execution_count": null,
   "metadata": {},
   "outputs": [],
   "source": [
    "min_population_index = df_cities_w_Martinus[\"Population\"].idxmin()\n",
    "\n",
    "min_population_city = df_cities_w_Martinus.loc[min_population_index]\n",
    "\n",
    "f\"{min_population_city['City']} is the smallest city ({min_population_city['Population']}) with Martinus\""
   ]
  },
  {
   "cell_type": "code",
   "execution_count": null,
   "metadata": {},
   "outputs": [],
   "source": [
    "df_cities_wo_Martinus = df_cities[~df_cities[\"City\"].isin(martinus_cities_clean)]\n",
    "df_cities_wo_Martinus = df_cities_wo_Martinus[\n",
    "    df_cities_wo_Martinus[\"Population\"] > min_population_city[\"Population\"]\n",
    "]\n",
    "\n",
    "print(\n",
    "    f\"{df_cities_wo_Martinus.shape[0]} cities are bigger than Ilava and do not have Martinus\"\n",
    ")\n",
    "df_cities_wo_Martinus.sort_values(\"Population\", ascending=False).head()"
   ]
  },
  {
   "cell_type": "code",
   "execution_count": null,
   "metadata": {},
   "outputs": [],
   "source": [
    "df_cities_wo_Martinus[\"Coordinates\"] = df_cities_wo_Martinus[\"City\"].apply(\n",
    "    get_coordinates_for_city\n",
    ")\n",
    "\n",
    "df_cities_wo_Martinus.head()"
   ]
  },
  {
   "cell_type": "code",
   "execution_count": null,
   "metadata": {},
   "outputs": [],
   "source": [
    "df_cities_wo_Martinus[\"Nearest_Martinus_km\"] = df_cities_wo_Martinus.apply(\n",
    "    lambda row: min(\n",
    "        haversine_distance(row[\"Coordinates\"], lib_row[\"Coordinates\"])\n",
    "        for _, lib_row in df_cities_w_Martinus.iterrows()\n",
    "    ),\n",
    "    axis=1,\n",
    ")\n",
    "\n",
    "df_cities_wo_Martinus[\"Nearest_Martinus_km\"] = df_cities_wo_Martinus[\n",
    "    \"Nearest_Martinus_km\"\n",
    "].round(2)\n",
    "\n",
    "df_cities_wo_Martinus.head(5)"
   ]
  },
  {
   "cell_type": "code",
   "execution_count": null,
   "metadata": {},
   "outputs": [],
   "source": [
    "df_cities_wo_Martinus.sort_values(\"Population\", ascending=False).head()"
   ]
  },
  {
   "cell_type": "code",
   "execution_count": null,
   "metadata": {},
   "outputs": [],
   "source": [
    "df_cities_wo_Martinus.sort_values(\"Nearest_Martinus_km\", ascending=False).head()"
   ]
  },
  {
   "cell_type": "code",
   "execution_count": null,
   "metadata": {},
   "outputs": [],
   "source": [
    "potential_shops = df_cities_wo_Martinus.sort_values(\n",
    "    \"Nearest_Martinus_km\", ascending=True\n",
    ")[-5:].reset_index()"
   ]
  },
  {
   "cell_type": "code",
   "execution_count": null,
   "metadata": {},
   "outputs": [],
   "source": [
    "martinus_candidates_map = folium.Map(location=[47.75, 18.25], zoom_start=11)\n",
    "add_marker_to_map(potential_shops[\"Coordinates\"], \"green\", martinus_candidates_map)\n",
    "#  martinus_candidates_map"
   ]
  },
  {
   "cell_type": "markdown",
   "metadata": {},
   "source": [
    "![Candidates Map](data/candidates.png)"
   ]
  },
  {
   "cell_type": "code",
   "execution_count": null,
   "metadata": {},
   "outputs": [],
   "source": [
    "coordinates = potential_shops[\"Coordinates\"].tolist()\n",
    "\n",
    "mean_coordinates = tuple(map(lambda x: sum(x) / len(x), zip(*coordinates)))\n",
    "\n",
    "print(mean_coordinates)"
   ]
  },
  {
   "cell_type": "code",
   "execution_count": null,
   "metadata": {},
   "outputs": [],
   "source": [
    "add_marker_to_map(mean_coordinates, \"red\", martinus_candidates_map)\n",
    "# martinus_candidates_map"
   ]
  },
  {
   "cell_type": "markdown",
   "metadata": {},
   "source": [
    "![Potential Shop](data/potential_shop.png)"
   ]
  },
  {
   "cell_type": "code",
   "execution_count": null,
   "metadata": {},
   "outputs": [],
   "source": [
    "df_cities_wo_Martinus[\"Distance_to_Mean\"] = df_cities_wo_Martinus[\"Coordinates\"].apply(\n",
    "    lambda coord: haversine_distance(mean_coordinates, coord)\n",
    ")\n",
    "\n",
    "nearest_city = df_cities_wo_Martinus.loc[\n",
    "    df_cities_wo_Martinus[\"Distance_to_Mean\"].idxmin()\n",
    "]\n",
    "\n",
    "print(nearest_city[\"City\"])"
   ]
  }
 ],
 "metadata": {
  "kernelspec": {
   "display_name": ".venv",
   "language": "python",
   "name": "python3"
  },
  "language_info": {
   "codemirror_mode": {
    "name": "ipython",
    "version": 3
   },
   "file_extension": ".py",
   "mimetype": "text/x-python",
   "name": "python",
   "nbconvert_exporter": "python",
   "pygments_lexer": "ipython3",
   "version": "3.11.1"
  }
 },
 "nbformat": 4,
 "nbformat_minor": 2
}
